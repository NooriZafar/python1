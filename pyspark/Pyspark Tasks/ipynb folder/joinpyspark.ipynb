{
  "nbformat": 4,
  "nbformat_minor": 0,
  "metadata": {
    "colab": {
      "provenance": []
    },
    "kernelspec": {
      "name": "python3",
      "display_name": "Python 3"
    },
    "language_info": {
      "name": "python"
    }
  },
  "cells": [
    {
      "cell_type": "code",
      "execution_count": null,
      "metadata": {
        "colab": {
          "base_uri": "https://localhost:8080/"
        },
        "id": "fJ7yLkDrRyBn",
        "outputId": "ef4e5876-eaaf-47a3-ad2d-8c3f544b5161"
      },
      "outputs": [
        {
          "output_type": "stream",
          "name": "stdout",
          "text": [
            "Looking in indexes: https://pypi.org/simple, https://us-python.pkg.dev/colab-wheels/public/simple/\n",
            "Collecting pyspark\n",
            "  Downloading pyspark-3.3.1.tar.gz (281.4 MB)\n",
            "\u001b[K     |████████████████████████████████| 281.4 MB 44 kB/s \n",
            "\u001b[?25hCollecting py4j==0.10.9.5\n",
            "  Downloading py4j-0.10.9.5-py2.py3-none-any.whl (199 kB)\n",
            "\u001b[K     |████████████████████████████████| 199 kB 53.8 MB/s \n",
            "\u001b[?25hBuilding wheels for collected packages: pyspark\n",
            "  Building wheel for pyspark (setup.py) ... \u001b[?25l\u001b[?25hdone\n",
            "  Created wheel for pyspark: filename=pyspark-3.3.1-py2.py3-none-any.whl size=281845512 sha256=ab9ad63cd868b4558f356a1d2be87a887ea5012f69eaa59bab1aeacccde8b837\n",
            "  Stored in directory: /root/.cache/pip/wheels/42/59/f5/79a5bf931714dcd201b26025347785f087370a10a3329a899c\n",
            "Successfully built pyspark\n",
            "Installing collected packages: py4j, pyspark\n",
            "Successfully installed py4j-0.10.9.5 pyspark-3.3.1\n"
          ]
        }
      ],
      "source": [
        "!pip install pyspark"
      ]
    },
    {
      "cell_type": "code",
      "source": [
        "import pyspark\n",
        "from pyspark import *\n",
        "from pyspark.sql.types import *\n",
        "from pyspark.sql import *\n",
        "from pyspark.sql.functions import *\n",
        "spark=SparkSession.builder.appName('practise').getOrCreate()"
      ],
      "metadata": {
        "id": "LvcrGGSKSZBs"
      },
      "execution_count": null,
      "outputs": []
    },
    {
      "cell_type": "code",
      "source": [
        "emp = [(1,\"Smith\",-1,\"2018\",\"10\",\"M\",3000), \n",
        "    (2,\"Rose\",1,\"2010\",\"20\",\"M\",4000), \n",
        "    (3,\"Williams\",1,\"2010\",\"10\",\"M\",1000), \n",
        "    (4,\"Jones\",2,\"2005\",\"10\",\"F\",2000), \n",
        "    (5,\"Brown\",2,\"2010\",\"40\",\"\",-1), \n",
        "    (6,\"Brown\",2,\"2010\",\"50\",\"\" ,-1) \n",
        "  ]"
      ],
      "metadata": {
        "id": "r19NYXtiSZIg"
      },
      "execution_count": null,
      "outputs": []
    },
    {
      "cell_type": "code",
      "source": [
        "empColumns = [\"emp_id\",\"name\",\"superior_emp_id\",\"year_joined\", \"dept_id\",\"gender\",\"salary\"]"
      ],
      "metadata": {
        "id": "A4gyBCjfSZTi"
      },
      "execution_count": null,
      "outputs": []
    },
    {
      "cell_type": "code",
      "source": [
        "empDF = spark.createDataFrame(data=emp, schema = empColumns)\n",
        "empDF.printSchema()\n",
        "empDF.show()"
      ],
      "metadata": {
        "colab": {
          "base_uri": "https://localhost:8080/"
        },
        "id": "jAjrVSHWSZVS",
        "outputId": "3b41022a-6e81-467a-97b7-a94e05cd7edc"
      },
      "execution_count": null,
      "outputs": [
        {
          "output_type": "stream",
          "name": "stdout",
          "text": [
            "root\n",
            " |-- emp_id: long (nullable = true)\n",
            " |-- name: string (nullable = true)\n",
            " |-- superior_emp_id: long (nullable = true)\n",
            " |-- year_joined: string (nullable = true)\n",
            " |-- dept_id: string (nullable = true)\n",
            " |-- gender: string (nullable = true)\n",
            " |-- salary: long (nullable = true)\n",
            "\n",
            "+------+--------+---------------+-----------+-------+------+------+\n",
            "|emp_id|    name|superior_emp_id|year_joined|dept_id|gender|salary|\n",
            "+------+--------+---------------+-----------+-------+------+------+\n",
            "|     1|   Smith|             -1|       2018|     10|     M|  3000|\n",
            "|     2|    Rose|              1|       2010|     20|     M|  4000|\n",
            "|     3|Williams|              1|       2010|     10|     M|  1000|\n",
            "|     4|   Jones|              2|       2005|     10|     F|  2000|\n",
            "|     5|   Brown|              2|       2010|     40|      |    -1|\n",
            "|     6|   Brown|              2|       2010|     50|      |    -1|\n",
            "+------+--------+---------------+-----------+-------+------+------+\n",
            "\n"
          ]
        }
      ]
    },
    {
      "cell_type": "code",
      "source": [
        "empDF.filter(\"gender !=''\").show()"
      ],
      "metadata": {
        "colab": {
          "base_uri": "https://localhost:8080/"
        },
        "id": "0pAn2JIlnj6O",
        "outputId": "494c9350-0977-4e17-b661-37493a8ef0e4"
      },
      "execution_count": null,
      "outputs": [
        {
          "output_type": "stream",
          "name": "stdout",
          "text": [
            "+------+--------+---------------+-----------+-----------+------+------+\n",
            "|emp_id|    name|superior_emp_id|year_joined|emp_dept_id|gender|salary|\n",
            "+------+--------+---------------+-----------+-----------+------+------+\n",
            "|     1|   Smith|             -1|       2018|         10|     M|  3000|\n",
            "|     2|    Rose|              1|       2010|         20|     M|  4000|\n",
            "|     3|Williams|              1|       2010|         10|     M|  1000|\n",
            "|     4|   Jones|              2|       2005|         10|     F|  2000|\n",
            "+------+--------+---------------+-----------+-----------+------+------+\n",
            "\n"
          ]
        }
      ]
    },
    {
      "cell_type": "code",
      "source": [
        "dept = [(\"Finance\",10,3000),(\"Marketing\",20,2000),(\"Sales\",30,5000),(\"IT\",40,6000)]\n",
        "deptColumns = [\"dept_name\",\"dept_id\",\"salary\"]"
      ],
      "metadata": {
        "id": "4X0hH9yOSZY2"
      },
      "execution_count": null,
      "outputs": []
    },
    {
      "cell_type": "code",
      "source": [
        "deptDF = spark.createDataFrame(data=dept, schema = deptColumns)\n",
        "deptDF.printSchema()\n",
        "deptDF.show(truncate=False)"
      ],
      "metadata": {
        "colab": {
          "base_uri": "https://localhost:8080/"
        },
        "id": "VfvyB97-U94J",
        "outputId": "eec0026a-5d2c-4b12-faa2-2876f4b8af4c"
      },
      "execution_count": null,
      "outputs": [
        {
          "output_type": "stream",
          "name": "stdout",
          "text": [
            "root\n",
            " |-- dept_name: string (nullable = true)\n",
            " |-- dept_id: long (nullable = true)\n",
            " |-- salary: long (nullable = true)\n",
            "\n",
            "+---------+-------+------+\n",
            "|dept_name|dept_id|salary|\n",
            "+---------+-------+------+\n",
            "|Finance  |10     |3000  |\n",
            "|Marketing|20     |2000  |\n",
            "|Sales    |30     |5000  |\n",
            "|IT       |40     |6000  |\n",
            "+---------+-------+------+\n",
            "\n"
          ]
        }
      ]
    },
    {
      "cell_type": "code",
      "source": [
        "deptDF.columns"
      ],
      "metadata": {
        "colab": {
          "base_uri": "https://localhost:8080/"
        },
        "id": "lhSxFPiW8mgA",
        "outputId": "a8b054ae-5be5-40a9-fb3c-580acefd4afc"
      },
      "execution_count": null,
      "outputs": [
        {
          "output_type": "execute_result",
          "data": {
            "text/plain": [
              "['dept_name', 'dept_id', 'salary']"
            ]
          },
          "metadata": {},
          "execution_count": 8
        }
      ]
    },
    {
      "cell_type": "code",
      "source": [
        "def joinsDemo(df1,df2,jointype):\n",
        "\n",
        "  if jointype in(\"full\",\"leftanti\"):\n",
        "\n",
        "    d_out=df1.join(df2,df1.dept_id == df2.dept_id,jointype)\n",
        "    d_out.filter(\"gender == 'M'\").show()\n",
        "\n",
        "  elif jointype == \"fullouter\":\n",
        "    d_out=df1.join(df2,df1.dept_id == df2.dept_id,jointype)\n",
        "    d_out.filter(df2.dept_id > 30).show()\n",
        "\n",
        "  elif jointype == \"inner\":\n",
        "\n",
        "    d_out=df1.join(df2,df1.salary > df2.salary,jointype)\n",
        "    d_out.filter(df1.name.startswith(\"S\")).show()\n",
        "    #d_out.filter(df1.name.endswith(\"e\")).show()\n",
        "\n",
        "  elif jointype == \"right\":\n",
        "    d_out=df1.join(df2,df1.dept_id == df2.dept_id,jointype)\n",
        "    #d_out.select(\"emp_id\",\"name\").show()\n",
        "    #d_out[d_out.name.isin(\"Smith\",\"Rose\")].show()\n",
        "    #d_out.select(\"name\",\"emp_id\",d_out.name.like(\"%S%\")).show()\n",
        "    d_out.select(d_out.name.substr(1,3).alias(\"shortname\")).show()\n",
        "\n",
        "  else:\n",
        "\n",
        "    d_out=df1.join(df2,df1.dept_id == df2.dept_id,jointype).select(df1.emp_id,df1.name,df1.gender,df1.salary,df2.dept_name,df2.dept_id)\n",
        "    d_out=d_out.replace(\"\",\"null\")\n",
        "    #d_out.select(d_out.columns[ 2: ])\n",
        "    d_out.dropna().show()\n",
        "    \n",
        "\n",
        "  return d_out "
      ],
      "metadata": {
        "id": "VEeEYgiUU96k"
      },
      "execution_count": null,
      "outputs": []
    },
    {
      "cell_type": "code",
      "source": [
        "joinsDemo(empDF,deptDF,\"right\")"
      ],
      "metadata": {
        "colab": {
          "base_uri": "https://localhost:8080/"
        },
        "id": "UmFrON2_7-tV",
        "outputId": "01dd4178-b353-4899-af95-bdb445b72ddc"
      },
      "execution_count": null,
      "outputs": [
        {
          "output_type": "stream",
          "name": "stdout",
          "text": [
            "+---------+\n",
            "|shortname|\n",
            "+---------+\n",
            "|      Jon|\n",
            "|      Wil|\n",
            "|      Smi|\n",
            "|      Ros|\n",
            "|     null|\n",
            "|      Bro|\n",
            "+---------+\n",
            "\n"
          ]
        },
        {
          "output_type": "execute_result",
          "data": {
            "text/plain": [
              "DataFrame[emp_id: bigint, name: string, superior_emp_id: bigint, year_joined: string, dept_id: string, gender: string, salary: bigint, dept_name: string, dept_id: bigint, salary: bigint]"
            ]
          },
          "metadata": {},
          "execution_count": 28
        }
      ]
    },
    {
      "cell_type": "code",
      "source": [
        "joinsDemo(empDF,deptDF,\"inner\")"
      ],
      "metadata": {
        "colab": {
          "base_uri": "https://localhost:8080/"
        },
        "id": "1OyRgHYWU99J",
        "outputId": "4aab4b50-02ed-4513-8885-1721a7d3a295"
      },
      "execution_count": null,
      "outputs": [
        {
          "output_type": "stream",
          "name": "stdout",
          "text": [
            "+------+-----+---------------+-----------+-----------+------+------+---------+-------+------+\n",
            "|emp_id| name|superior_emp_id|year_joined|emp_dept_id|gender|salary|dept_name|dept_id|salary|\n",
            "+------+-----+---------------+-----------+-----------+------+------+---------+-------+------+\n",
            "|     1|Smith|             -1|       2018|         10|     M|  3000|Marketing|     20|  2000|\n",
            "+------+-----+---------------+-----------+-----------+------+------+---------+-------+------+\n",
            "\n"
          ]
        },
        {
          "output_type": "execute_result",
          "data": {
            "text/plain": [
              "DataFrame[emp_id: bigint, name: string, superior_emp_id: bigint, year_joined: string, emp_dept_id: string, gender: string, salary: bigint, dept_name: string, dept_id: bigint, salary: bigint]"
            ]
          },
          "metadata": {},
          "execution_count": 198
        }
      ]
    },
    {
      "cell_type": "code",
      "source": [
        "joinsDemo(empDF,deptDF,\"full\")"
      ],
      "metadata": {
        "colab": {
          "base_uri": "https://localhost:8080/"
        },
        "id": "KXfwrwUaU9_m",
        "outputId": "cd68c1bf-a8e7-47fc-d890-9c60677b27be"
      },
      "execution_count": null,
      "outputs": [
        {
          "output_type": "stream",
          "name": "stdout",
          "text": [
            "+------+--------+---------------+-----------+-----------+------+------+---------+-------+------+\n",
            "|emp_id|    name|superior_emp_id|year_joined|emp_dept_id|gender|salary|dept_name|dept_id|salary|\n",
            "+------+--------+---------------+-----------+-----------+------+------+---------+-------+------+\n",
            "|     1|   Smith|             -1|       2018|         10|     M|  3000|  Finance|     10|  3000|\n",
            "|     3|Williams|              1|       2010|         10|     M|  1000|  Finance|     10|  3000|\n",
            "|     2|    Rose|              1|       2010|         20|     M|  4000|Marketing|     20|  2000|\n",
            "+------+--------+---------------+-----------+-----------+------+------+---------+-------+------+\n",
            "\n"
          ]
        },
        {
          "output_type": "execute_result",
          "data": {
            "text/plain": [
              "DataFrame[emp_id: bigint, name: string, superior_emp_id: bigint, year_joined: string, emp_dept_id: string, gender: string, salary: bigint, dept_name: string, dept_id: bigint, salary: bigint]"
            ]
          },
          "metadata": {},
          "execution_count": 71
        }
      ]
    },
    {
      "cell_type": "code",
      "source": [
        "joinsDemo(empDF,deptDF,\"leftanti\")"
      ],
      "metadata": {
        "colab": {
          "base_uri": "https://localhost:8080/"
        },
        "id": "9Jt1c3XBU-B5",
        "outputId": "5b163d3e-2c48-42ca-e072-72382d519d9c"
      },
      "execution_count": null,
      "outputs": [
        {
          "output_type": "stream",
          "name": "stdout",
          "text": [
            "+------+-----+---------------+-----------+-----------+------+------+\n",
            "|emp_id| name|superior_emp_id|year_joined|emp_dept_id|gender|salary|\n",
            "+------+-----+---------------+-----------+-----------+------+------+\n",
            "|     6|Brown|              2|       2010|         50|      |    -1|\n",
            "+------+-----+---------------+-----------+-----------+------+------+\n",
            "\n"
          ]
        }
      ]
    },
    {
      "cell_type": "code",
      "source": [
        "joinsDemo(empDF,deptDF,\"outer\")"
      ],
      "metadata": {
        "colab": {
          "base_uri": "https://localhost:8080/"
        },
        "id": "-CW6YG3IU-Ez",
        "outputId": "774873f9-f192-4ff6-d08f-b8ad032a40ef"
      },
      "execution_count": null,
      "outputs": [
        {
          "output_type": "stream",
          "name": "stdout",
          "text": [
            "+------+--------+------+------+---------+-------+\n",
            "|emp_id|    name|gender|salary|dept_name|dept_id|\n",
            "+------+--------+------+------+---------+-------+\n",
            "|     1|   Smith|     M|  3000|  Finance|     10|\n",
            "|     3|Williams|     M|  1000|  Finance|     10|\n",
            "|     4|   Jones|     F|  2000|  Finance|     10|\n",
            "|     2|    Rose|     M|  4000|Marketing|     20|\n",
            "|     5|   Brown|  null|    -1|       IT|     40|\n",
            "+------+--------+------+------+---------+-------+\n",
            "\n"
          ]
        },
        {
          "output_type": "execute_result",
          "data": {
            "text/plain": [
              "DataFrame[emp_id: bigint, name: string, gender: string, salary: bigint, dept_name: string, dept_id: bigint]"
            ]
          },
          "metadata": {},
          "execution_count": 14
        }
      ]
    },
    {
      "cell_type": "code",
      "source": [
        "joinsDemo(empDF,deptDF,\"fullouter\")"
      ],
      "metadata": {
        "colab": {
          "base_uri": "https://localhost:8080/"
        },
        "id": "TONUw2LHX9In",
        "outputId": "009d8e58-b688-4180-8c23-95443014d74f"
      },
      "execution_count": null,
      "outputs": [
        {
          "output_type": "stream",
          "name": "stdout",
          "text": [
            "+------+-----+---------------+-----------+-----------+------+------+---------+-------+------+\n",
            "|emp_id| name|superior_emp_id|year_joined|emp_dept_id|gender|salary|dept_name|dept_id|salary|\n",
            "+------+-----+---------------+-----------+-----------+------+------+---------+-------+------+\n",
            "|     5|Brown|              2|       2010|         40|      |    -1|       IT|     40|  6000|\n",
            "+------+-----+---------------+-----------+-----------+------+------+---------+-------+------+\n",
            "\n"
          ]
        },
        {
          "output_type": "execute_result",
          "data": {
            "text/plain": [
              "DataFrame[emp_id: bigint, name: string, superior_emp_id: bigint, year_joined: string, emp_dept_id: string, gender: string, salary: bigint, dept_name: string, dept_id: bigint, salary: bigint]"
            ]
          },
          "metadata": {},
          "execution_count": 12
        }
      ]
    },
    {
      "cell_type": "code",
      "source": [
        "joinsDemo(empDF,deptDF,\"outer\")"
      ],
      "metadata": {
        "colab": {
          "base_uri": "https://localhost:8080/"
        },
        "id": "jashkVsAzX0V",
        "outputId": "5c92a019-8fff-4182-9420-b6a7505db0fa"
      },
      "execution_count": null,
      "outputs": [
        {
          "output_type": "stream",
          "name": "stdout",
          "text": [
            "+------+--------+------+------+---------+-------+\n",
            "|emp_id|    name|gender|salary|dept_name|dept_id|\n",
            "+------+--------+------+------+---------+-------+\n",
            "|     1|   Smith|     M|  3000|  Finance|     10|\n",
            "|     3|Williams|     M|  1000|  Finance|     10|\n",
            "|     4|   Jones|     F|  2000|  Finance|     10|\n",
            "|     2|    Rose|     M|  4000|Marketing|     20|\n",
            "|     5|   Brown|  null|    -1|       IT|     40|\n",
            "+------+--------+------+------+---------+-------+\n",
            "\n"
          ]
        },
        {
          "output_type": "execute_result",
          "data": {
            "text/plain": [
              "DataFrame[emp_id: bigint, name: string, gender: string, salary: bigint, dept_name: string, dept_id: bigint]"
            ]
          },
          "metadata": {},
          "execution_count": 15
        }
      ]
    },
    {
      "cell_type": "code",
      "source": [
        "def addPrefix(df1,prefix):\n",
        "\tfor i in df1.columns:\n",
        "\t\tdf1=df1.withColumnRenamed(i,'{}{}'.format(prefix,i))\n",
        "\n",
        "\treturn df1"
      ],
      "metadata": {
        "id": "CXhUcjlyU-HI"
      },
      "execution_count": null,
      "outputs": []
    },
    {
      "cell_type": "code",
      "source": [
        "addPrefix(empDF,1 )"
      ],
      "metadata": {
        "id": "s5kX0dNDU-Jq",
        "colab": {
          "base_uri": "https://localhost:8080/"
        },
        "outputId": "9313eba7-a836-409a-bc2e-462e00886e07"
      },
      "execution_count": null,
      "outputs": [
        {
          "output_type": "execute_result",
          "data": {
            "text/plain": [
              "DataFrame[emp_id1: bigint, name1: string, superior_emp_id1: bigint, year_joined1: string, emp_dept_id1: string, gender1: string, salary1: bigint]"
            ]
          },
          "metadata": {},
          "execution_count": 78
        }
      ]
    },
    {
      "cell_type": "code",
      "source": [
        "empDF.select(empDF.columns[2:4]).show(3)"
      ],
      "metadata": {
        "id": "nt7UuRq_U-PE",
        "colab": {
          "base_uri": "https://localhost:8080/"
        },
        "outputId": "bb78e032-7185-4b60-8ce0-a462b19ec51a"
      },
      "execution_count": null,
      "outputs": [
        {
          "output_type": "stream",
          "name": "stdout",
          "text": [
            "+---------------+-----------+\n",
            "|superior_emp_id|year_joined|\n",
            "+---------------+-----------+\n",
            "|             -1|       2018|\n",
            "|              1|       2010|\n",
            "|              1|       2010|\n",
            "+---------------+-----------+\n",
            "only showing top 3 rows\n",
            "\n"
          ]
        }
      ]
    },
    {
      "cell_type": "code",
      "source": [
        "\"\"\"def checkColumns(df1,column):\n",
        "\tfor i in df1.columns:\n",
        "\t\tdf1=df1.columns == 'null'\n",
        "\n",
        "\treturn df1\"\"\""
      ],
      "metadata": {
        "id": "E3vVL3vZaLgT"
      },
      "execution_count": null,
      "outputs": []
    },
    {
      "cell_type": "code",
      "source": [
        "nan_cols=[i for i in empDF.columns if empDF[i].notna().any()]"
      ],
      "metadata": {
        "colab": {
          "base_uri": "https://localhost:8080/",
          "height": 218
        },
        "id": "zvp2PfChW3mn",
        "outputId": "cf002e0d-5597-449b-dd84-d45b844f73a0"
      },
      "execution_count": null,
      "outputs": [
        {
          "output_type": "error",
          "ename": "TypeError",
          "evalue": "ignored",
          "traceback": [
            "\u001b[0;31m---------------------------------------------------------------------------\u001b[0m",
            "\u001b[0;31mTypeError\u001b[0m                                 Traceback (most recent call last)",
            "\u001b[0;32m<ipython-input-49-cad21f81f860>\u001b[0m in \u001b[0;36m<module>\u001b[0;34m\u001b[0m\n\u001b[0;32m----> 1\u001b[0;31m \u001b[0mnan_cols\u001b[0m\u001b[0;34m=\u001b[0m\u001b[0;34m[\u001b[0m\u001b[0mi\u001b[0m \u001b[0;32mfor\u001b[0m \u001b[0mi\u001b[0m \u001b[0;32min\u001b[0m \u001b[0mempDF\u001b[0m\u001b[0;34m.\u001b[0m\u001b[0mcolumns\u001b[0m \u001b[0;32mif\u001b[0m \u001b[0mempDF\u001b[0m\u001b[0;34m[\u001b[0m\u001b[0mi\u001b[0m\u001b[0;34m]\u001b[0m\u001b[0;34m.\u001b[0m\u001b[0mnotna\u001b[0m\u001b[0;34m(\u001b[0m\u001b[0;34m)\u001b[0m\u001b[0;34m.\u001b[0m\u001b[0many\u001b[0m\u001b[0;34m(\u001b[0m\u001b[0;34m)\u001b[0m\u001b[0;34m]\u001b[0m\u001b[0;34m\u001b[0m\u001b[0;34m\u001b[0m\u001b[0m\n\u001b[0m",
            "\u001b[0;32m<ipython-input-49-cad21f81f860>\u001b[0m in \u001b[0;36m<listcomp>\u001b[0;34m(.0)\u001b[0m\n\u001b[0;32m----> 1\u001b[0;31m \u001b[0mnan_cols\u001b[0m\u001b[0;34m=\u001b[0m\u001b[0;34m[\u001b[0m\u001b[0mi\u001b[0m \u001b[0;32mfor\u001b[0m \u001b[0mi\u001b[0m \u001b[0;32min\u001b[0m \u001b[0mempDF\u001b[0m\u001b[0;34m.\u001b[0m\u001b[0mcolumns\u001b[0m \u001b[0;32mif\u001b[0m \u001b[0mempDF\u001b[0m\u001b[0;34m[\u001b[0m\u001b[0mi\u001b[0m\u001b[0;34m]\u001b[0m\u001b[0;34m.\u001b[0m\u001b[0mnotna\u001b[0m\u001b[0;34m(\u001b[0m\u001b[0;34m)\u001b[0m\u001b[0;34m.\u001b[0m\u001b[0many\u001b[0m\u001b[0;34m(\u001b[0m\u001b[0;34m)\u001b[0m\u001b[0;34m]\u001b[0m\u001b[0;34m\u001b[0m\u001b[0;34m\u001b[0m\u001b[0m\n\u001b[0m",
            "\u001b[0;31mTypeError\u001b[0m: 'Column' object is not callable"
          ]
        }
      ]
    },
    {
      "cell_type": "code",
      "source": [
        "print(len(empDF.columns))"
      ],
      "metadata": {
        "colab": {
          "base_uri": "https://localhost:8080/"
        },
        "id": "mLBwCNLlXhck",
        "outputId": "60fc3420-711a-4876-964b-5aa2f913a3dd"
      },
      "execution_count": null,
      "outputs": [
        {
          "output_type": "stream",
          "name": "stdout",
          "text": [
            "7\n"
          ]
        }
      ]
    },
    {
      "cell_type": "code",
      "source": [
        "result=empDF.isEmpty\n",
        "print(result)"
      ],
      "metadata": {
        "colab": {
          "base_uri": "https://localhost:8080/"
        },
        "id": "s92WEj8OV-yk",
        "outputId": "e054bf51-5ffa-4ea6-985c-e7732741cab8"
      },
      "execution_count": null,
      "outputs": [
        {
          "output_type": "stream",
          "name": "stdout",
          "text": [
            "<bound method DataFrame.isEmpty of DataFrame[emp_id: bigint, name: string, superior_emp_id: bigint, year_joined: string, emp_dept_id: string, gender: string, salary: bigint]>\n"
          ]
        }
      ]
    },
    {
      "cell_type": "code",
      "source": [
        "print(empDF)\n",
        "is_nan=empDF.na\n",
        "print(is_nan)"
      ],
      "metadata": {
        "colab": {
          "base_uri": "https://localhost:8080/"
        },
        "id": "kG_ykp3zaytM",
        "outputId": "89b7132a-6ad3-4d33-c94f-c7b91c969006"
      },
      "execution_count": null,
      "outputs": [
        {
          "output_type": "stream",
          "name": "stdout",
          "text": [
            "DataFrame[emp_id: bigint, name: string, superior_emp_id: bigint, year_joined: string, emp_dept_id: string, gender: string, salary: bigint]\n",
            "<pyspark.sql.dataframe.DataFrameNaFunctions object at 0x7f3a7e0a80d0>\n"
          ]
        }
      ]
    },
    {
      "cell_type": "code",
      "source": [
        "student=[(1,'noori','zafar'),(2,'neelu','khan'),(3,'afrin','begam')]\n",
        "studentColumns=['id','fname','lname']"
      ],
      "metadata": {
        "id": "KviItOTcb1ZC"
      },
      "execution_count": null,
      "outputs": []
    },
    {
      "cell_type": "code",
      "source": [
        "studentDF=spark.createDataFrame(student,studentColumns)\n",
        "studentDF.show()"
      ],
      "metadata": {
        "colab": {
          "base_uri": "https://localhost:8080/"
        },
        "id": "9HTgzmfjupUM",
        "outputId": "c3c8403e-7420-4a62-d138-fe384d9c5ccd"
      },
      "execution_count": null,
      "outputs": [
        {
          "output_type": "stream",
          "name": "stdout",
          "text": [
            "+---+-----+-----+\n",
            "| id|fname|lname|\n",
            "+---+-----+-----+\n",
            "|  1|noori|zafar|\n",
            "|  2|neelu| khan|\n",
            "|  3|afrin|begam|\n",
            "+---+-----+-----+\n",
            "\n"
          ]
        }
      ]
    },
    {
      "cell_type": "code",
      "source": [
        "studentcourse=[(1,2),(1,3),(2,1),(2,2),(2,3),(3,1)]\n",
        "studentcColumns=['studentid','courseid']\n",
        "studentcourseDF=spark.createDataFrame(studentcourse,studentcColumns)\n",
        "studentcourseDF.show()"
      ],
      "metadata": {
        "colab": {
          "base_uri": "https://localhost:8080/"
        },
        "id": "Y6S5v10MupZH",
        "outputId": "803cebd1-3b34-4a4f-e709-69b41d7f41bb"
      },
      "execution_count": null,
      "outputs": [
        {
          "output_type": "stream",
          "name": "stdout",
          "text": [
            "+---------+--------+\n",
            "|studentid|courseid|\n",
            "+---------+--------+\n",
            "|        1|       2|\n",
            "|        1|       3|\n",
            "|        2|       1|\n",
            "|        2|       2|\n",
            "|        2|       3|\n",
            "|        3|       1|\n",
            "+---------+--------+\n",
            "\n"
          ]
        }
      ]
    },
    {
      "cell_type": "code",
      "source": [
        "course=[(1,'database',1),(2,'english',2),(3,'python',1)]\n",
        "courseColumns=['id','name','teacherid']\n",
        "courseDF=spark.createDataFrame(course,courseColumns)\n",
        "courseDF.show()"
      ],
      "metadata": {
        "colab": {
          "base_uri": "https://localhost:8080/"
        },
        "id": "8A74VlVquphK",
        "outputId": "fa1f671f-2626-4a94-90bb-cd6f881b0e5d"
      },
      "execution_count": null,
      "outputs": [
        {
          "output_type": "stream",
          "name": "stdout",
          "text": [
            "+---+--------+---------+\n",
            "| id|    name|teacherid|\n",
            "+---+--------+---------+\n",
            "|  1|database|        1|\n",
            "|  2| english|        2|\n",
            "|  3|  python|        1|\n",
            "+---+--------+---------+\n",
            "\n"
          ]
        }
      ]
    },
    {
      "cell_type": "code",
      "source": [
        "df1=studentDF.join(studentcourseDF)"
      ],
      "metadata": {
        "id": "AhhsqFNawLaQ"
      },
      "execution_count": null,
      "outputs": []
    },
    {
      "cell_type": "code",
      "source": [
        "df1.join(courseDF).show(40,truncate=40)"
      ],
      "metadata": {
        "colab": {
          "base_uri": "https://localhost:8080/"
        },
        "id": "FKgOJml9wLfP",
        "outputId": "b85fd3b1-9aed-49f7-d7eb-4c150069553f"
      },
      "execution_count": null,
      "outputs": [
        {
          "output_type": "stream",
          "name": "stdout",
          "text": [
            "+---------+-----+-----+---------+--------+---+--------+---------+\n",
            "|studentid|fname|lname|studentid|courseid| id|    name|teacherid|\n",
            "+---------+-----+-----+---------+--------+---+--------+---------+\n",
            "|        1|noori|zafar|        1|       2|  1|database|        1|\n",
            "|        1|noori|zafar|        1|       3|  1|database|        1|\n",
            "|        1|noori|zafar|        2|       1|  1|database|        1|\n",
            "|        1|noori|zafar|        1|       2|  2| english|        2|\n",
            "|        1|noori|zafar|        1|       2|  3|  python|        1|\n",
            "|        1|noori|zafar|        1|       3|  2| english|        2|\n",
            "|        1|noori|zafar|        1|       3|  3|  python|        1|\n",
            "|        1|noori|zafar|        2|       1|  2| english|        2|\n",
            "|        1|noori|zafar|        2|       1|  3|  python|        1|\n",
            "|        1|noori|zafar|        2|       2|  1|database|        1|\n",
            "|        1|noori|zafar|        2|       3|  1|database|        1|\n",
            "|        1|noori|zafar|        3|       1|  1|database|        1|\n",
            "|        1|noori|zafar|        2|       2|  2| english|        2|\n",
            "|        1|noori|zafar|        2|       2|  3|  python|        1|\n",
            "|        1|noori|zafar|        2|       3|  2| english|        2|\n",
            "|        1|noori|zafar|        2|       3|  3|  python|        1|\n",
            "|        1|noori|zafar|        3|       1|  2| english|        2|\n",
            "|        1|noori|zafar|        3|       1|  3|  python|        1|\n",
            "|        2|neelu| khan|        1|       2|  1|database|        1|\n",
            "|        2|neelu| khan|        1|       3|  1|database|        1|\n",
            "|        2|neelu| khan|        2|       1|  1|database|        1|\n",
            "|        3|afrin|begam|        1|       2|  1|database|        1|\n",
            "|        3|afrin|begam|        1|       3|  1|database|        1|\n",
            "|        3|afrin|begam|        2|       1|  1|database|        1|\n",
            "|        2|neelu| khan|        1|       2|  2| english|        2|\n",
            "|        2|neelu| khan|        1|       2|  3|  python|        1|\n",
            "|        2|neelu| khan|        1|       3|  2| english|        2|\n",
            "|        2|neelu| khan|        1|       3|  3|  python|        1|\n",
            "|        2|neelu| khan|        2|       1|  2| english|        2|\n",
            "|        2|neelu| khan|        2|       1|  3|  python|        1|\n",
            "|        3|afrin|begam|        1|       2|  2| english|        2|\n",
            "|        3|afrin|begam|        1|       2|  3|  python|        1|\n",
            "|        3|afrin|begam|        1|       3|  2| english|        2|\n",
            "|        3|afrin|begam|        1|       3|  3|  python|        1|\n",
            "|        3|afrin|begam|        2|       1|  2| english|        2|\n",
            "|        3|afrin|begam|        2|       1|  3|  python|        1|\n",
            "|        2|neelu| khan|        2|       2|  1|database|        1|\n",
            "|        2|neelu| khan|        2|       3|  1|database|        1|\n",
            "|        2|neelu| khan|        3|       1|  1|database|        1|\n",
            "|        3|afrin|begam|        2|       2|  1|database|        1|\n",
            "+---------+-----+-----+---------+--------+---+--------+---------+\n",
            "only showing top 40 rows\n",
            "\n"
          ]
        }
      ]
    },
    {
      "cell_type": "code",
      "source": [
        "df1.join(courseDF).show(2,truncate=False)"
      ],
      "metadata": {
        "colab": {
          "base_uri": "https://localhost:8080/"
        },
        "id": "bM24dWEQLFl2",
        "outputId": "bcf37319-a2c3-4bcb-bf90-ce5302766964"
      },
      "execution_count": null,
      "outputs": [
        {
          "output_type": "stream",
          "name": "stdout",
          "text": [
            "+---------+-----+-----+---------+--------+--------+--------+---------+\n",
            "|studentid|fname|lname|studentid|courseid|courseid|name    |teacherid|\n",
            "+---------+-----+-----+---------+--------+--------+--------+---------+\n",
            "|1        |noori|zafar|1        |2       |1       |database|1        |\n",
            "|1        |noori|zafar|1        |3       |1       |database|1        |\n",
            "+---------+-----+-----+---------+--------+--------+--------+---------+\n",
            "only showing top 2 rows\n",
            "\n"
          ]
        }
      ]
    },
    {
      "cell_type": "code",
      "source": [
        "def joinThree(df1,df2,df3,jointype1,jointype2):\n",
        "  if jointype1 == \"right\":\n",
        "    dout=df1.join(df2,df1.id==df2.studentid,jointype1)\n",
        "    if jointype2 in(\"left\",\"right\"):\n",
        "      dout=dout.join(df3,dout.courseid==df3.courseid,jointype2)\n",
        "  elif jointype1 == \"left\":\n",
        "    dout=df1.join(df2,df1.id==df2.studentid,jointype1)\n",
        "    if jointype2 == \"right\":\n",
        "      dout=dout.join(df3,dout.studentid==df3.id,jointype2)\n",
        "    else:\n",
        "      dout=dout.join(df3,dout.id ==df3.teacherid,jointype2)\n",
        "\n",
        "  return dout"
      ],
      "metadata": {
        "id": "Th0AO9TiwLh2"
      },
      "execution_count": null,
      "outputs": []
    },
    {
      "cell_type": "code",
      "source": [
        "joinThree(studentDF,studentcourseDF,courseDF,'left','full').show()"
      ],
      "metadata": {
        "colab": {
          "base_uri": "https://localhost:8080/"
        },
        "id": "Cs7zXPoJwLkf",
        "outputId": "79ad9a64-7dea-4cd8-c2d2-0e6219d21418"
      },
      "execution_count": null,
      "outputs": [
        {
          "output_type": "stream",
          "name": "stdout",
          "text": [
            "+---+-----+-----+---------+--------+----+--------+---------+\n",
            "| id|fname|lname|studentid|courseid|  id|    name|teacherid|\n",
            "+---+-----+-----+---------+--------+----+--------+---------+\n",
            "|  1|noori|zafar|        1|       3|   1|database|        1|\n",
            "|  1|noori|zafar|        1|       3|   3|  python|        1|\n",
            "|  1|noori|zafar|        1|       2|   1|database|        1|\n",
            "|  1|noori|zafar|        1|       2|   3|  python|        1|\n",
            "|  2|neelu| khan|        2|       3|   2| english|        2|\n",
            "|  2|neelu| khan|        2|       2|   2| english|        2|\n",
            "|  2|neelu| khan|        2|       1|   2| english|        2|\n",
            "|  3|afrin|begam|        3|       1|null|    null|     null|\n",
            "+---+-----+-----+---------+--------+----+--------+---------+\n",
            "\n"
          ]
        }
      ]
    },
    {
      "cell_type": "code",
      "source": [
        "joinThree(studentDF,studentcourseDF,courseDF,'left','right').show()"
      ],
      "metadata": {
        "colab": {
          "base_uri": "https://localhost:8080/"
        },
        "id": "FZA9tx0ywLoF",
        "outputId": "3f59882d-bab6-4221-f92d-64411a027add"
      },
      "execution_count": null,
      "outputs": [
        {
          "output_type": "stream",
          "name": "stdout",
          "text": [
            "+---+-----+-----+---------+--------+---+--------+---------+\n",
            "| id|fname|lname|studentid|courseid| id|    name|teacherid|\n",
            "+---+-----+-----+---------+--------+---+--------+---------+\n",
            "|  1|noori|zafar|        1|       3|  1|database|        1|\n",
            "|  1|noori|zafar|        1|       2|  1|database|        1|\n",
            "|  3|afrin|begam|        3|       1|  3|  python|        1|\n",
            "|  2|neelu| khan|        2|       3|  2| english|        2|\n",
            "|  2|neelu| khan|        2|       2|  2| english|        2|\n",
            "|  2|neelu| khan|        2|       1|  2| english|        2|\n",
            "+---+-----+-----+---------+--------+---+--------+---------+\n",
            "\n"
          ]
        }
      ]
    },
    {
      "cell_type": "code",
      "source": [],
      "metadata": {
        "id": "YGuOQ-OMJy8C"
      },
      "execution_count": null,
      "outputs": []
    },
    {
      "cell_type": "code",
      "source": [],
      "metadata": {
        "id": "A35eeALrJy-S"
      },
      "execution_count": null,
      "outputs": []
    },
    {
      "cell_type": "code",
      "source": [],
      "metadata": {
        "id": "YAF4r_RYJzAe"
      },
      "execution_count": null,
      "outputs": []
    },
    {
      "cell_type": "code",
      "source": [],
      "metadata": {
        "id": "K4DIPU6VJzD5"
      },
      "execution_count": null,
      "outputs": []
    },
    {
      "cell_type": "code",
      "source": [],
      "metadata": {
        "id": "MYBMXQCYJzLv"
      },
      "execution_count": null,
      "outputs": []
    },
    {
      "cell_type": "code",
      "source": [],
      "metadata": {
        "id": "KKTJzE-nJzPD"
      },
      "execution_count": null,
      "outputs": []
    }
  ]
}