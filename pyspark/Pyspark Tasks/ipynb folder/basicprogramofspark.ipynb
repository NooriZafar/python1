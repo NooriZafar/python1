{
  "nbformat": 4,
  "nbformat_minor": 0,
  "metadata": {
    "colab": {
      "provenance": []
    },
    "kernelspec": {
      "name": "python3",
      "display_name": "Python 3"
    },
    "language_info": {
      "name": "python"
    }
  },
  "cells": [
    {
      "cell_type": "code",
      "execution_count": null,
      "metadata": {
        "colab": {
          "base_uri": "https://localhost:8080/"
        },
        "id": "A5XV6iF8-XcY",
        "outputId": "62cea82b-dc69-40f7-983d-0b465ecdf405"
      },
      "outputs": [
        {
          "output_type": "stream",
          "name": "stdout",
          "text": [
            "Looking in indexes: https://pypi.org/simple, https://us-python.pkg.dev/colab-wheels/public/simple/\n",
            "Collecting pyspark\n",
            "  Downloading pyspark-3.3.1.tar.gz (281.4 MB)\n",
            "\u001b[K     |████████████████████████████████| 281.4 MB 44 kB/s \n",
            "\u001b[?25hCollecting py4j==0.10.9.5\n",
            "  Downloading py4j-0.10.9.5-py2.py3-none-any.whl (199 kB)\n",
            "\u001b[K     |████████████████████████████████| 199 kB 44.7 MB/s \n",
            "\u001b[?25hBuilding wheels for collected packages: pyspark\n",
            "  Building wheel for pyspark (setup.py) ... \u001b[?25l\u001b[?25hdone\n",
            "  Created wheel for pyspark: filename=pyspark-3.3.1-py2.py3-none-any.whl size=281845512 sha256=a7bdb5985830ce2cceb5d195bd880d50bf32793e30dbf640f17c8a05d0e65465\n",
            "  Stored in directory: /root/.cache/pip/wheels/42/59/f5/79a5bf931714dcd201b26025347785f087370a10a3329a899c\n",
            "Successfully built pyspark\n",
            "Installing collected packages: py4j, pyspark\n",
            "Successfully installed py4j-0.10.9.5 pyspark-3.3.1\n"
          ]
        }
      ],
      "source": [
        "!pip install pyspark"
      ]
    },
    {
      "cell_type": "code",
      "source": [
        "import pyspark\n",
        "from pyspark import SparkContext\n",
        "sc=SparkContext()"
      ],
      "metadata": {
        "id": "pZzfNzF5-lHg"
      },
      "execution_count": null,
      "outputs": []
    },
    {
      "cell_type": "code",
      "source": [
        "nums=sc.parallelize([1,2,3,4])\n",
        "nums\n",
        "#nums.take(1)"
      ],
      "metadata": {
        "id": "R72O_mTk-lKi",
        "colab": {
          "base_uri": "https://localhost:8080/"
        },
        "outputId": "7a342533-76bb-4e58-ed30-cc08616f1b67"
      },
      "execution_count": null,
      "outputs": [
        {
          "output_type": "execute_result",
          "data": {
            "text/plain": [
              "ParallelCollectionRDD[6] at readRDDFromFile at PythonRDD.scala:274"
            ]
          },
          "metadata": {},
          "execution_count": 9
        }
      ]
    },
    {
      "cell_type": "code",
      "source": [
        "square=nums.map(lambda x:x+x).collect()\n",
        "for num in square:\n",
        "  print('%i' % (num))"
      ],
      "metadata": {
        "id": "C0r50vD4-lM6",
        "colab": {
          "base_uri": "https://localhost:8080/"
        },
        "outputId": "40324842-6399-42e1-a5d0-5bf4ae82920e"
      },
      "execution_count": null,
      "outputs": [
        {
          "output_type": "stream",
          "name": "stdout",
          "text": [
            "2\n",
            "4\n",
            "6\n",
            "8\n"
          ]
        }
      ]
    },
    {
      "cell_type": "code",
      "source": [
        "print(\"hello \" + \"world\")"
      ],
      "metadata": {
        "id": "votVGe3f-lPc"
      },
      "execution_count": null,
      "outputs": []
    },
    {
      "cell_type": "code",
      "source": [
        "import pyspark\n",
        "from pyspark.sql import *\n",
        "spark=SparkSession.builder.appName('stub1').getOrCreate()\n",
        "data=[[\"hello\"]]\n",
        "columns=[\"name\"]\n",
        "df=spark.createDataFrame(data,columns)\n",
        "#Ddf1=df.filter(lambda line:line.split())\n",
        "df.show()\n",
        "print(df.count)"
      ],
      "metadata": {
        "id": "G_wJ51Gm-lTA"
      },
      "execution_count": null,
      "outputs": []
    },
    {
      "cell_type": "code",
      "source": [
        "sc.stop()\n"
      ],
      "metadata": {
        "id": "ARnHz1Y_-lqD"
      },
      "execution_count": null,
      "outputs": []
    },
    {
      "cell_type": "code",
      "source": [
        "import pyspark\n",
        "from pyspark import *\n",
        "from pyspark.sql.types import *\n",
        "spark=SparkSession.builder.appName('arithmetic').getOrCreate()\n",
        "df=spark.read.text('/content/spark')\n",
        "df.show()"
      ],
      "metadata": {
        "id": "AXpFQKa3-ltb",
        "colab": {
          "base_uri": "https://localhost:8080/"
        },
        "outputId": "90f1c8f6-c79e-4b6a-e46c-76d3d3cdacd9"
      },
      "execution_count": null,
      "outputs": [
        {
          "output_type": "stream",
          "name": "stdout",
          "text": [
            "+-----+\n",
            "|value|\n",
            "+-----+\n",
            "|    1|\n",
            "|    2|\n",
            "|    3|\n",
            "|    4|\n",
            "|    5|\n",
            "+-----+\n",
            "\n"
          ]
        }
      ]
    },
    {
      "cell_type": "code",
      "source": [
        "df.first()"
      ],
      "metadata": {
        "colab": {
          "base_uri": "https://localhost:8080/"
        },
        "id": "roJ1SSQVMCEV",
        "outputId": "f678fcde-444a-468b-e985-56082e8a23c6"
      },
      "execution_count": null,
      "outputs": [
        {
          "output_type": "execute_result",
          "data": {
            "text/plain": [
              "Row(value='/*hiee ')"
            ]
          },
          "metadata": {},
          "execution_count": 62
        }
      ]
    },
    {
      "cell_type": "code",
      "source": [
        "df.take(3)"
      ],
      "metadata": {
        "colab": {
          "base_uri": "https://localhost:8080/"
        },
        "id": "YY4ToeF6MCGn",
        "outputId": "a75577b2-9398-4fd4-9b8a-85d0a949e078"
      },
      "execution_count": null,
      "outputs": [
        {
          "output_type": "execute_result",
          "data": {
            "text/plain": [
              "[Row(value='hiee '), Row(value='how '), Row(value='are ')]"
            ]
          },
          "metadata": {},
          "execution_count": 61
        }
      ]
    },
    {
      "cell_type": "code",
      "source": [
        "\n",
        "import pyspark\n",
        "from pyspark.sql import *\n",
        "from pyspark import *\n",
        "from pyspark.sql.types import *\n",
        "spark=SparkSession.builder.appName('practise1').getOrCreate()"
      ],
      "metadata": {
        "id": "S8itHQnuMCLX"
      },
      "execution_count": null,
      "outputs": []
    },
    {
      "cell_type": "code",
      "source": [
        "emp=[(\"Noori\",1,40000,21),(\"Suhana\",2,35000,22),(\"Sindhu\",3,35000,23)]"
      ],
      "metadata": {
        "id": "y4iSK74MMCNo"
      },
      "execution_count": null,
      "outputs": []
    },
    {
      "cell_type": "code",
      "source": [
        "empcol=[\"EmpName\",\"EmpID\",\"Salary\",\"branchid\"]"
      ],
      "metadata": {
        "id": "blBMfyuYMCRK"
      },
      "execution_count": null,
      "outputs": []
    },
    {
      "cell_type": "code",
      "source": [
        "empDF=spark.createDataFrame(emp,empcol)"
      ],
      "metadata": {
        "id": "nMHZYYaoErUt"
      },
      "execution_count": null,
      "outputs": []
    },
    {
      "cell_type": "code",
      "source": [
        "empDF.show()"
      ],
      "metadata": {
        "colab": {
          "base_uri": "https://localhost:8080/"
        },
        "id": "JHeCgUbkErgw",
        "outputId": "2d23a47a-a874-4cde-c6bc-bcff58c829a1"
      },
      "execution_count": null,
      "outputs": [
        {
          "output_type": "stream",
          "name": "stdout",
          "text": [
            "+-------+-----+------+--------+\n",
            "|EmpName|EmpID|Salary|branchid|\n",
            "+-------+-----+------+--------+\n",
            "|  Noori|    1| 40000|      21|\n",
            "| Suhana|    2| 35000|      22|\n",
            "| Sindhu|    3| 35000|      23|\n",
            "+-------+-----+------+--------+\n",
            "\n"
          ]
        }
      ]
    },
    {
      "cell_type": "code",
      "source": [
        "dep=[(\"CSE\",11,22),(\"EEE\",1,25),(\"ECE\",13,21)]"
      ],
      "metadata": {
        "id": "18tBgrbyErj3"
      },
      "execution_count": null,
      "outputs": []
    },
    {
      "cell_type": "code",
      "source": [
        "depcol=[\"DepName\",\"DepID\",\"branchid\"]"
      ],
      "metadata": {
        "id": "Og5DS3aoErmx"
      },
      "execution_count": null,
      "outputs": []
    },
    {
      "cell_type": "code",
      "source": [
        "depDF=spark.createDataFrame(dep,depcol)\n",
        "depDF.show()"
      ],
      "metadata": {
        "colab": {
          "base_uri": "https://localhost:8080/"
        },
        "id": "scZ1TLP-ErqI",
        "outputId": "7aae227e-874a-4ccc-d105-a217187a70f9"
      },
      "execution_count": null,
      "outputs": [
        {
          "output_type": "stream",
          "name": "stdout",
          "text": [
            "+-------+-----+--------+\n",
            "|DepName|DepID|branchid|\n",
            "+-------+-----+--------+\n",
            "|    CSE|   11|      22|\n",
            "|    EEE|    1|      25|\n",
            "|    ECE|   13|      21|\n",
            "+-------+-----+--------+\n",
            "\n"
          ]
        }
      ]
    },
    {
      "cell_type": "code",
      "source": [
        "empDF.join(depDF).show()"
      ],
      "metadata": {
        "colab": {
          "base_uri": "https://localhost:8080/"
        },
        "id": "CPsyx6IgI-yc",
        "outputId": "9c631867-4fcd-454d-f2e5-b7e79faf52c4"
      },
      "execution_count": null,
      "outputs": [
        {
          "output_type": "stream",
          "name": "stdout",
          "text": [
            "+-------+-----+------+--------+-------+-----+--------+\n",
            "|EmpName|EmpID|Salary|branchid|DepName|DepID|branchid|\n",
            "+-------+-----+------+--------+-------+-----+--------+\n",
            "|  Noori|    1| 40000|      21|    CSE|   11|      22|\n",
            "|  Noori|    1| 40000|      21|    EEE|    1|      25|\n",
            "|  Noori|    1| 40000|      21|    ECE|   13|      21|\n",
            "| Suhana|    2| 35000|      22|    CSE|   11|      22|\n",
            "| Sindhu|    3| 35000|      23|    CSE|   11|      22|\n",
            "| Suhana|    2| 35000|      22|    EEE|    1|      25|\n",
            "| Suhana|    2| 35000|      22|    ECE|   13|      21|\n",
            "| Sindhu|    3| 35000|      23|    EEE|    1|      25|\n",
            "| Sindhu|    3| 35000|      23|    ECE|   13|      21|\n",
            "+-------+-----+------+--------+-------+-----+--------+\n",
            "\n"
          ]
        }
      ]
    },
    {
      "cell_type": "code",
      "source": [
        "empDF.join(depDF,empDF.EmpID==depDF.DepID,\"inner\").show()"
      ],
      "metadata": {
        "colab": {
          "base_uri": "https://localhost:8080/"
        },
        "id": "2dUpOydcI-0v",
        "outputId": "4b632b97-b6d5-4137-8cc3-4a5e0d7285fd"
      },
      "execution_count": null,
      "outputs": [
        {
          "output_type": "stream",
          "name": "stdout",
          "text": [
            "+-------+-----+------+-------+-----+\n",
            "|EmpName|EmpID|Salary|DepName|DepID|\n",
            "+-------+-----+------+-------+-----+\n",
            "|  Noori|    1| 40000|    EEE|    1|\n",
            "+-------+-----+------+-------+-----+\n",
            "\n"
          ]
        }
      ]
    },
    {
      "cell_type": "code",
      "source": [
        "empDF.join(depDF,empDF.EmpID==depDF.DepID,\"outer\").show()"
      ],
      "metadata": {
        "colab": {
          "base_uri": "https://localhost:8080/"
        },
        "id": "vSW3TveFI-3Z",
        "outputId": "7aea5d3d-4493-48c7-db98-0e29fec38acd"
      },
      "execution_count": null,
      "outputs": [
        {
          "output_type": "stream",
          "name": "stdout",
          "text": [
            "+-------+-----+------+-------+-----+\n",
            "|EmpName|EmpID|Salary|DepName|DepID|\n",
            "+-------+-----+------+-------+-----+\n",
            "|  Noori|    1| 40000|    EEE|    1|\n",
            "| Suhana|    2| 35000|   null| null|\n",
            "| Sindhu|    3| 35000|   null| null|\n",
            "|   null| null|  null|    CSE|   11|\n",
            "|   null| null|  null|    ECE|   13|\n",
            "+-------+-----+------+-------+-----+\n",
            "\n"
          ]
        }
      ]
    },
    {
      "cell_type": "code",
      "source": [
        "empDF.join(depDF,empDF.EmpID==depDF.DepID,\"full\").show()"
      ],
      "metadata": {
        "colab": {
          "base_uri": "https://localhost:8080/"
        },
        "id": "X2f1m55ZI-6-",
        "outputId": "b933470f-5d17-4c1b-c4cd-f849ff9e1762"
      },
      "execution_count": null,
      "outputs": [
        {
          "output_type": "stream",
          "name": "stdout",
          "text": [
            "+-------+-----+------+-------+-----+\n",
            "|EmpName|EmpID|Salary|DepName|DepID|\n",
            "+-------+-----+------+-------+-----+\n",
            "|  Noori|    1| 40000|    EEE|    1|\n",
            "| Suhana|    2| 35000|   null| null|\n",
            "| Sindhu|    3| 35000|   null| null|\n",
            "|   null| null|  null|    CSE|   11|\n",
            "|   null| null|  null|    ECE|   13|\n",
            "+-------+-----+------+-------+-----+\n",
            "\n"
          ]
        }
      ]
    },
    {
      "cell_type": "code",
      "source": [
        "empDF.join(depDF,empDF.EmpID==depDF.DepID,\"fullouter\").show()"
      ],
      "metadata": {
        "colab": {
          "base_uri": "https://localhost:8080/"
        },
        "id": "dTmk47J9I_F5",
        "outputId": "700481da-a9b2-497f-f956-dfb4f635eb9d"
      },
      "execution_count": null,
      "outputs": [
        {
          "output_type": "stream",
          "name": "stdout",
          "text": [
            "+-------+-----+------+-------+-----+\n",
            "|EmpName|EmpID|Salary|DepName|DepID|\n",
            "+-------+-----+------+-------+-----+\n",
            "|  Noori|    1| 40000|    EEE|    1|\n",
            "| Suhana|    2| 35000|   null| null|\n",
            "| Sindhu|    3| 35000|   null| null|\n",
            "|   null| null|  null|    CSE|   11|\n",
            "|   null| null|  null|    ECE|   13|\n",
            "+-------+-----+------+-------+-----+\n",
            "\n"
          ]
        }
      ]
    },
    {
      "cell_type": "code",
      "source": [
        "empDF.distinct().count()"
      ],
      "metadata": {
        "colab": {
          "base_uri": "https://localhost:8080/"
        },
        "id": "HGhvvjbghYYt",
        "outputId": "791e7b61-60c9-4ff0-eefb-840356e45baa"
      },
      "execution_count": null,
      "outputs": [
        {
          "output_type": "execute_result",
          "data": {
            "text/plain": [
              "3"
            ]
          },
          "metadata": {},
          "execution_count": 35
        }
      ]
    },
    {
      "cell_type": "code",
      "source": [
        "empDF.join(depDF,empDF.EmpID==depDF.DepID,\"left\").show()"
      ],
      "metadata": {
        "id": "gIwtmurwhYok",
        "colab": {
          "base_uri": "https://localhost:8080/"
        },
        "outputId": "8e74e039-7ad9-4f7e-923a-51229b9f08c7"
      },
      "execution_count": null,
      "outputs": [
        {
          "output_type": "stream",
          "name": "stdout",
          "text": [
            "+-------+-----+------+-------+-----+\n",
            "|EmpName|EmpID|Salary|DepName|DepID|\n",
            "+-------+-----+------+-------+-----+\n",
            "|  Noori|    1| 40000|    EEE|    1|\n",
            "| Sindhu|    3| 35000|   null| null|\n",
            "| Suhana|    2| 35000|   null| null|\n",
            "+-------+-----+------+-------+-----+\n",
            "\n"
          ]
        }
      ]
    },
    {
      "cell_type": "code",
      "source": [
        "empDF.join(depDF,empDF.EmpID==depDF.DepID,\"leftouter\").show()"
      ],
      "metadata": {
        "id": "E57uJ_J0hYtb",
        "colab": {
          "base_uri": "https://localhost:8080/"
        },
        "outputId": "175b1ea9-fd28-42bf-ba49-755fd0f01c90"
      },
      "execution_count": null,
      "outputs": [
        {
          "output_type": "stream",
          "name": "stdout",
          "text": [
            "+-------+-----+------+-------+-----+\n",
            "|EmpName|EmpID|Salary|DepName|DepID|\n",
            "+-------+-----+------+-------+-----+\n",
            "|  Noori|    1| 40000|    EEE|    1|\n",
            "| Sindhu|    3| 35000|   null| null|\n",
            "| Suhana|    2| 35000|   null| null|\n",
            "+-------+-----+------+-------+-----+\n",
            "\n"
          ]
        }
      ]
    },
    {
      "cell_type": "code",
      "source": [
        "empDF.join(depDF,empDF.EmpID==depDF.DepID,\"right\").show()"
      ],
      "metadata": {
        "id": "49y-WCZBhYw7",
        "colab": {
          "base_uri": "https://localhost:8080/"
        },
        "outputId": "2946d29d-3499-49be-b956-2f76d88aa171"
      },
      "execution_count": null,
      "outputs": [
        {
          "output_type": "stream",
          "name": "stdout",
          "text": [
            "+-------+-----+------+-------+-----+\n",
            "|EmpName|EmpID|Salary|DepName|DepID|\n",
            "+-------+-----+------+-------+-----+\n",
            "|   null| null|  null|    CSE|   11|\n",
            "|  Noori|    1| 40000|    EEE|    1|\n",
            "|   null| null|  null|    ECE|   13|\n",
            "+-------+-----+------+-------+-----+\n",
            "\n"
          ]
        }
      ]
    },
    {
      "cell_type": "code",
      "source": [
        "empDF.join(depDF,empDF.EmpID==depDF.DepID,\"rightouter\").show()"
      ],
      "metadata": {
        "id": "1fcUtNVbRFTV",
        "colab": {
          "base_uri": "https://localhost:8080/"
        },
        "outputId": "e7406bda-160c-4208-b5a0-c95c43c80de7"
      },
      "execution_count": null,
      "outputs": [
        {
          "output_type": "stream",
          "name": "stdout",
          "text": [
            "+-------+-----+------+-------+-----+\n",
            "|EmpName|EmpID|Salary|DepName|DepID|\n",
            "+-------+-----+------+-------+-----+\n",
            "|   null| null|  null|    CSE|   11|\n",
            "|  Noori|    1| 40000|    EEE|    1|\n",
            "|   null| null|  null|    ECE|   13|\n",
            "+-------+-----+------+-------+-----+\n",
            "\n"
          ]
        }
      ]
    },
    {
      "cell_type": "code",
      "source": [
        "empDF.join(depDF,empDF.EmpID==depDF.DepID,\"leftsemi\").show()"
      ],
      "metadata": {
        "id": "CheW8r4pRFV1",
        "colab": {
          "base_uri": "https://localhost:8080/"
        },
        "outputId": "516d2564-a5f4-417d-d705-bc1b1ac2d5e8"
      },
      "execution_count": null,
      "outputs": [
        {
          "output_type": "stream",
          "name": "stdout",
          "text": [
            "+-------+-----+------+\n",
            "|EmpName|EmpID|Salary|\n",
            "+-------+-----+------+\n",
            "|  Noori|    1| 40000|\n",
            "+-------+-----+------+\n",
            "\n"
          ]
        }
      ]
    },
    {
      "cell_type": "code",
      "source": [
        "empDF.join(depDF,empDF.EmpID==depDF.DepID,\"leftanti\").show()"
      ],
      "metadata": {
        "id": "LE72lVo4RFYV",
        "colab": {
          "base_uri": "https://localhost:8080/"
        },
        "outputId": "7631390c-04c8-4d6b-a1c6-96b733665e3c"
      },
      "execution_count": null,
      "outputs": [
        {
          "output_type": "stream",
          "name": "stdout",
          "text": [
            "+-------+-----+------+\n",
            "|EmpName|EmpID|Salary|\n",
            "+-------+-----+------+\n",
            "| Sindhu|    3| 35000|\n",
            "| Suhana|    2| 35000|\n",
            "+-------+-----+------+\n",
            "\n"
          ]
        }
      ]
    },
    {
      "cell_type": "code",
      "source": [
        "empDF.join(depDF,[empDF.EmpID < depDF.DepID],\"fullouter\").show()"
      ],
      "metadata": {
        "id": "mnDwnwSdRFaw",
        "colab": {
          "base_uri": "https://localhost:8080/"
        },
        "outputId": "d83e7c5b-2cbc-4fcc-d831-549ae84c0854"
      },
      "execution_count": null,
      "outputs": [
        {
          "output_type": "stream",
          "name": "stdout",
          "text": [
            "+-------+-----+------+-------+-----+\n",
            "|EmpName|EmpID|Salary|DepName|DepID|\n",
            "+-------+-----+------+-------+-----+\n",
            "|  Noori|    1| 40000|    CSE|   11|\n",
            "|  Noori|    1| 40000|    ECE|   13|\n",
            "| Suhana|    2| 35000|    CSE|   11|\n",
            "| Suhana|    2| 35000|    ECE|   13|\n",
            "| Sindhu|    3| 35000|    CSE|   11|\n",
            "| Sindhu|    3| 35000|    ECE|   13|\n",
            "|   null| null|  null|    EEE|    1|\n",
            "+-------+-----+------+-------+-----+\n",
            "\n"
          ]
        }
      ]
    },
    {
      "cell_type": "code",
      "source": [
        "empDF.join(depDF,[empDF.EmpID != depDF.DepID],\"fullouter\").show()"
      ],
      "metadata": {
        "id": "hUzESh1ZRFdJ",
        "colab": {
          "base_uri": "https://localhost:8080/"
        },
        "outputId": "d813d692-293c-4ad3-e52d-f6a17c36f66b"
      },
      "execution_count": null,
      "outputs": [
        {
          "output_type": "stream",
          "name": "stdout",
          "text": [
            "+-------+-----+------+-------+-----+\n",
            "|EmpName|EmpID|Salary|DepName|DepID|\n",
            "+-------+-----+------+-------+-----+\n",
            "|  Noori|    1| 40000|    CSE|   11|\n",
            "|  Noori|    1| 40000|    ECE|   13|\n",
            "| Suhana|    2| 35000|    CSE|   11|\n",
            "| Suhana|    2| 35000|    EEE|    1|\n",
            "| Suhana|    2| 35000|    ECE|   13|\n",
            "| Sindhu|    3| 35000|    CSE|   11|\n",
            "| Sindhu|    3| 35000|    EEE|    1|\n",
            "| Sindhu|    3| 35000|    ECE|   13|\n",
            "+-------+-----+------+-------+-----+\n",
            "\n"
          ]
        }
      ]
    },
    {
      "cell_type": "code",
      "source": [
        "adddata=[(1,\"chittoor\"),(2,\"Bangalore\")]"
      ],
      "metadata": {
        "id": "OvJaYPvhRFhl"
      },
      "execution_count": null,
      "outputs": []
    },
    {
      "cell_type": "code",
      "source": [
        "addcolumns=[\"id\",\"city\"]"
      ],
      "metadata": {
        "id": "Qd412ip3RFkF"
      },
      "execution_count": null,
      "outputs": []
    },
    {
      "cell_type": "code",
      "source": [
        "addDF=spark.createDataFrame(adddata,addcolumns)"
      ],
      "metadata": {
        "id": "PqjWQfqHRFmh"
      },
      "execution_count": null,
      "outputs": []
    },
    {
      "cell_type": "code",
      "source": [
        "addDF.show()"
      ],
      "metadata": {
        "id": "nijYvRJXRFo4",
        "colab": {
          "base_uri": "https://localhost:8080/"
        },
        "outputId": "b6c6c693-5bc1-44e9-9f82-ddf2657f2c10"
      },
      "execution_count": null,
      "outputs": [
        {
          "output_type": "stream",
          "name": "stdout",
          "text": [
            "+---+---------+\n",
            "| id|     city|\n",
            "+---+---------+\n",
            "|  1| chittoor|\n",
            "|  2|Bangalore|\n",
            "+---+---------+\n",
            "\n"
          ]
        }
      ]
    },
    {
      "cell_type": "code",
      "source": [
        "df1=empDF.alias('df1')\n",
        "df2=depDF.alias('df2')\n",
        "df3=addDF.alias('df3')"
      ],
      "metadata": {
        "id": "cUwboQVXRFtW"
      },
      "execution_count": null,
      "outputs": []
    },
    {
      "cell_type": "code",
      "source": [
        "from pyspark.sql.functions import *\n",
        "#df1.show()\n",
        "#df2.show()\n",
        "#df3.show()"
      ],
      "metadata": {
        "id": "x01zvAx5LZFG"
      },
      "execution_count": null,
      "outputs": []
    },
    {
      "cell_type": "code",
      "source": [
        "joindf=df1.join(df2,col('df1.branchid') == col('df2.branchid'),'left').join(df3,col('df1.EmpID') == col('df3.id'),'left').select('df1.*','df2.branchid','df3.city')"
      ],
      "metadata": {
        "id": "pCl99BTaLZHY"
      },
      "execution_count": null,
      "outputs": []
    },
    {
      "cell_type": "code",
      "source": [
        "joindf.show()"
      ],
      "metadata": {
        "colab": {
          "base_uri": "https://localhost:8080/"
        },
        "id": "Sjk8rm4eLZJj",
        "outputId": "488be9b1-ca30-4db7-ef29-c38283df269d"
      },
      "execution_count": null,
      "outputs": [
        {
          "output_type": "stream",
          "name": "stdout",
          "text": [
            "+-------+-----+------+--------+--------+---------+\n",
            "|EmpName|EmpID|Salary|branchid|branchid|     city|\n",
            "+-------+-----+------+--------+--------+---------+\n",
            "|  Noori|    1| 40000|      21|      21| chittoor|\n",
            "| Suhana|    2| 35000|      22|      22|Bangalore|\n",
            "| Sindhu|    3| 35000|      23|    null|     null|\n",
            "+-------+-----+------+--------+--------+---------+\n",
            "\n"
          ]
        }
      ]
    },
    {
      "cell_type": "code",
      "source": [
        "empDF.join(addDF,[\"id\"]).join(depDF,empDF[\"branchid\"] == depDF[\"branchid\"]).show()"
      ],
      "metadata": {
        "colab": {
          "base_uri": "https://localhost:8080/",
          "height": 311
        },
        "id": "wmdJF0gMLZMY",
        "outputId": "991043e0-26f4-4f44-c7e2-093b701fb32b"
      },
      "execution_count": null,
      "outputs": [
        {
          "output_type": "error",
          "ename": "AnalysisException",
          "evalue": "ignored",
          "traceback": [
            "\u001b[0;31m---------------------------------------------------------------------------\u001b[0m",
            "\u001b[0;31mAnalysisException\u001b[0m                         Traceback (most recent call last)",
            "\u001b[0;32m<ipython-input-40-e5a383627ad5>\u001b[0m in \u001b[0;36m<module>\u001b[0;34m\u001b[0m\n\u001b[0;32m----> 1\u001b[0;31m \u001b[0mempDF\u001b[0m\u001b[0;34m.\u001b[0m\u001b[0mjoin\u001b[0m\u001b[0;34m(\u001b[0m\u001b[0maddDF\u001b[0m\u001b[0;34m,\u001b[0m\u001b[0;34m[\u001b[0m\u001b[0;34m\"id\"\u001b[0m\u001b[0;34m]\u001b[0m\u001b[0;34m)\u001b[0m\u001b[0;34m.\u001b[0m\u001b[0mjoin\u001b[0m\u001b[0;34m(\u001b[0m\u001b[0mdepDF\u001b[0m\u001b[0;34m,\u001b[0m\u001b[0mempDF\u001b[0m\u001b[0;34m[\u001b[0m\u001b[0;34m\"branchid\"\u001b[0m\u001b[0;34m]\u001b[0m \u001b[0;34m==\u001b[0m \u001b[0mdepDF\u001b[0m\u001b[0;34m[\u001b[0m\u001b[0;34m\"branchid\"\u001b[0m\u001b[0;34m]\u001b[0m\u001b[0;34m)\u001b[0m\u001b[0;34m.\u001b[0m\u001b[0mshow\u001b[0m\u001b[0;34m(\u001b[0m\u001b[0;34m)\u001b[0m\u001b[0;34m\u001b[0m\u001b[0;34m\u001b[0m\u001b[0m\n\u001b[0m",
            "\u001b[0;32m/usr/local/lib/python3.7/dist-packages/pyspark/sql/dataframe.py\u001b[0m in \u001b[0;36mjoin\u001b[0;34m(self, other, on, how)\u001b[0m\n\u001b[1;32m   1537\u001b[0m                 \u001b[0mon\u001b[0m \u001b[0;34m=\u001b[0m \u001b[0mself\u001b[0m\u001b[0;34m.\u001b[0m\u001b[0m_jseq\u001b[0m\u001b[0;34m(\u001b[0m\u001b[0;34m[\u001b[0m\u001b[0;34m]\u001b[0m\u001b[0;34m)\u001b[0m\u001b[0;34m\u001b[0m\u001b[0;34m\u001b[0m\u001b[0m\n\u001b[1;32m   1538\u001b[0m             \u001b[0;32massert\u001b[0m \u001b[0misinstance\u001b[0m\u001b[0;34m(\u001b[0m\u001b[0mhow\u001b[0m\u001b[0;34m,\u001b[0m \u001b[0mstr\u001b[0m\u001b[0;34m)\u001b[0m\u001b[0;34m,\u001b[0m \u001b[0;34m\"how should be a string\"\u001b[0m\u001b[0;34m\u001b[0m\u001b[0;34m\u001b[0m\u001b[0m\n\u001b[0;32m-> 1539\u001b[0;31m             \u001b[0mjdf\u001b[0m \u001b[0;34m=\u001b[0m \u001b[0mself\u001b[0m\u001b[0;34m.\u001b[0m\u001b[0m_jdf\u001b[0m\u001b[0;34m.\u001b[0m\u001b[0mjoin\u001b[0m\u001b[0;34m(\u001b[0m\u001b[0mother\u001b[0m\u001b[0;34m.\u001b[0m\u001b[0m_jdf\u001b[0m\u001b[0;34m,\u001b[0m \u001b[0mon\u001b[0m\u001b[0;34m,\u001b[0m \u001b[0mhow\u001b[0m\u001b[0;34m)\u001b[0m\u001b[0;34m\u001b[0m\u001b[0;34m\u001b[0m\u001b[0m\n\u001b[0m\u001b[1;32m   1540\u001b[0m         \u001b[0;32mreturn\u001b[0m \u001b[0mDataFrame\u001b[0m\u001b[0;34m(\u001b[0m\u001b[0mjdf\u001b[0m\u001b[0;34m,\u001b[0m \u001b[0mself\u001b[0m\u001b[0;34m.\u001b[0m\u001b[0msparkSession\u001b[0m\u001b[0;34m)\u001b[0m\u001b[0;34m\u001b[0m\u001b[0;34m\u001b[0m\u001b[0m\n\u001b[1;32m   1541\u001b[0m \u001b[0;34m\u001b[0m\u001b[0m\n",
            "\u001b[0;32m/usr/local/lib/python3.7/dist-packages/py4j/java_gateway.py\u001b[0m in \u001b[0;36m__call__\u001b[0;34m(self, *args)\u001b[0m\n\u001b[1;32m   1320\u001b[0m         \u001b[0manswer\u001b[0m \u001b[0;34m=\u001b[0m \u001b[0mself\u001b[0m\u001b[0;34m.\u001b[0m\u001b[0mgateway_client\u001b[0m\u001b[0;34m.\u001b[0m\u001b[0msend_command\u001b[0m\u001b[0;34m(\u001b[0m\u001b[0mcommand\u001b[0m\u001b[0;34m)\u001b[0m\u001b[0;34m\u001b[0m\u001b[0;34m\u001b[0m\u001b[0m\n\u001b[1;32m   1321\u001b[0m         return_value = get_return_value(\n\u001b[0;32m-> 1322\u001b[0;31m             answer, self.gateway_client, self.target_id, self.name)\n\u001b[0m\u001b[1;32m   1323\u001b[0m \u001b[0;34m\u001b[0m\u001b[0m\n\u001b[1;32m   1324\u001b[0m         \u001b[0;32mfor\u001b[0m \u001b[0mtemp_arg\u001b[0m \u001b[0;32min\u001b[0m \u001b[0mtemp_args\u001b[0m\u001b[0;34m:\u001b[0m\u001b[0;34m\u001b[0m\u001b[0;34m\u001b[0m\u001b[0m\n",
            "\u001b[0;32m/usr/local/lib/python3.7/dist-packages/pyspark/sql/utils.py\u001b[0m in \u001b[0;36mdeco\u001b[0;34m(*a, **kw)\u001b[0m\n\u001b[1;32m    194\u001b[0m                 \u001b[0;31m# Hide where the exception came from that shows a non-Pythonic\u001b[0m\u001b[0;34m\u001b[0m\u001b[0;34m\u001b[0m\u001b[0;34m\u001b[0m\u001b[0m\n\u001b[1;32m    195\u001b[0m                 \u001b[0;31m# JVM exception message.\u001b[0m\u001b[0;34m\u001b[0m\u001b[0;34m\u001b[0m\u001b[0;34m\u001b[0m\u001b[0m\n\u001b[0;32m--> 196\u001b[0;31m                 \u001b[0;32mraise\u001b[0m \u001b[0mconverted\u001b[0m \u001b[0;32mfrom\u001b[0m \u001b[0;32mNone\u001b[0m\u001b[0;34m\u001b[0m\u001b[0;34m\u001b[0m\u001b[0m\n\u001b[0m\u001b[1;32m    197\u001b[0m             \u001b[0;32melse\u001b[0m\u001b[0;34m:\u001b[0m\u001b[0;34m\u001b[0m\u001b[0;34m\u001b[0m\u001b[0m\n\u001b[1;32m    198\u001b[0m                 \u001b[0;32mraise\u001b[0m\u001b[0;34m\u001b[0m\u001b[0;34m\u001b[0m\u001b[0m\n",
            "\u001b[0;31mAnalysisException\u001b[0m: USING column `id` cannot be resolved on the left side of the join. The left-side columns: [EmpName, EmpID, Salary, branchid]"
          ]
        }
      ]
    },
    {
      "cell_type": "code",
      "source": [
        "empDF.createOrReplaceTempView(\"emp\")\n",
        "depDF.createOrReplaceTempView(\"dep\")\n",
        "addDF.createOrReplaceTempView(\"add\")"
      ],
      "metadata": {
        "id": "TqC9lmk0LZP0"
      },
      "execution_count": null,
      "outputs": []
    },
    {
      "cell_type": "code",
      "source": [
        "def joinsDemo(df1,df2,jointype):\n",
        "  if jointype == \"inner\":\n",
        "    d_out=df1.join(df2,df1.branchid == df2.branchid,jointype)\n",
        "  else:\n",
        "    d_out=df1.join(df2,df1.branchid == df2.branchid,jointype)\n",
        "  return d_out"
      ],
      "metadata": {
        "id": "voPpWO6RSjfc"
      },
      "execution_count": null,
      "outputs": []
    },
    {
      "cell_type": "code",
      "source": [
        "joinsDemo(empDF,depDF,\"inner\").show()"
      ],
      "metadata": {
        "id": "y5ED6jk2Sjqw",
        "colab": {
          "base_uri": "https://localhost:8080/"
        },
        "outputId": "c28f05d9-8f4f-4b02-de64-57460d0b1a91"
      },
      "execution_count": null,
      "outputs": [
        {
          "output_type": "stream",
          "name": "stdout",
          "text": [
            "+-------+-----+------+--------+-------+-----+--------+\n",
            "|EmpName|EmpID|Salary|branchid|DepName|DepID|branchid|\n",
            "+-------+-----+------+--------+-------+-----+--------+\n",
            "|  Noori|    1| 40000|      21|    ECE|   13|      21|\n",
            "| Suhana|    2| 35000|      22|    CSE|   11|      22|\n",
            "+-------+-----+------+--------+-------+-----+--------+\n",
            "\n"
          ]
        }
      ]
    },
    {
      "cell_type": "code",
      "source": [
        "joinsDemo(empDF,depDF,\"full\").show()"
      ],
      "metadata": {
        "id": "QClQgX9bSjuN",
        "colab": {
          "base_uri": "https://localhost:8080/"
        },
        "outputId": "8ea8b09a-af37-4f27-8bcb-0d9ef6787ffa"
      },
      "execution_count": null,
      "outputs": [
        {
          "output_type": "stream",
          "name": "stdout",
          "text": [
            "+-------+-----+------+--------+-------+-----+--------+\n",
            "|EmpName|EmpID|Salary|branchid|DepName|DepID|branchid|\n",
            "+-------+-----+------+--------+-------+-----+--------+\n",
            "|  Noori|    1| 40000|      21|    ECE|   13|      21|\n",
            "| Suhana|    2| 35000|      22|    CSE|   11|      22|\n",
            "| Sindhu|    3| 35000|      23|   null| null|    null|\n",
            "|   null| null|  null|    null|    EEE|    1|      25|\n",
            "+-------+-----+------+--------+-------+-----+--------+\n",
            "\n"
          ]
        }
      ]
    }
  ]
}