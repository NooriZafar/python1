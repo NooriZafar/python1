{
 "cells": [
  {
   "cell_type": "code",
   "execution_count": 1,
   "id": "8fad3692",
   "metadata": {},
   "outputs": [],
   "source": [
    "import findspark\n",
    "findspark.init()"
   ]
  },
  {
   "cell_type": "code",
   "execution_count": 2,
   "id": "1e47979b",
   "metadata": {},
   "outputs": [],
   "source": [
    "import pyspark\n",
    "from pyspark.sql import *\n",
    "from pyspark.sql.functions import *"
   ]
  },
  {
   "cell_type": "code",
   "execution_count": 3,
   "id": "f2b3f52e",
   "metadata": {},
   "outputs": [
    {
     "name": "stdout",
     "output_type": "stream",
     "text": [
      "+-----+\n",
      "|hello|\n",
      "+-----+\n",
      "|spark|\n",
      "+-----+\n",
      "\n"
     ]
    }
   ],
   "source": [
    "spark=SparkSession.builder.appName('practice').getOrCreate()\n",
    "df=spark.sql(\"select 'spark' as hello\")\n",
    "df.show()"
   ]
  },
  {
   "cell_type": "code",
   "execution_count": 4,
   "id": "49a6eb9f",
   "metadata": {
    "scrolled": false
   },
   "outputs": [
    {
     "name": "stdout",
     "output_type": "stream",
     "text": [
      "root\n",
      " |-- employee_name: string (nullable = true)\n",
      " |-- department: string (nullable = true)\n",
      " |-- state: string (nullable = true)\n",
      " |-- salary: long (nullable = true)\n",
      " |-- age: long (nullable = true)\n",
      " |-- bonus: long (nullable = true)\n",
      "\n",
      "+-------------+----------+-----+------+---+-----+\n",
      "|employee_name|department|state|salary|age|bonus|\n",
      "+-------------+----------+-----+------+---+-----+\n",
      "|James        |Sales     |NY   |90000 |34 |10000|\n",
      "|Michael      |Sales     |NY   |86000 |56 |20000|\n",
      "|Robert       |Sales     |CA   |81000 |30 |23000|\n",
      "|Maria        |Finance   |CA   |90000 |24 |23000|\n",
      "|Raman        |Finance   |CA   |99000 |40 |24000|\n",
      "|Scott        |Finance   |NY   |83000 |36 |19000|\n",
      "|Jen          |Finance   |NY   |79000 |53 |15000|\n",
      "|Jeff         |Marketing |CA   |80000 |25 |18000|\n",
      "|Kumar        |Marketing |NY   |91000 |50 |21000|\n",
      "+-------------+----------+-----+------+---+-----+\n",
      "\n"
     ]
    }
   ],
   "source": [
    "simpleData = [(\"James\",\"Sales\",\"NY\",90000,34,10000),\n",
    "    (\"Michael\",\"Sales\",\"NY\",86000,56,20000),\n",
    "    (\"Robert\",\"Sales\",\"CA\",81000,30,23000),\n",
    "    (\"Maria\",\"Finance\",\"CA\",90000,24,23000),\n",
    "    (\"Raman\",\"Finance\",\"CA\",99000,40,24000),\n",
    "    (\"Scott\",\"Finance\",\"NY\",83000,36,19000),\n",
    "    (\"Jen\",\"Finance\",\"NY\",79000,53,15000),\n",
    "    (\"Jeff\",\"Marketing\",\"CA\",80000,25,18000),\n",
    "    (\"Kumar\",\"Marketing\",\"NY\",91000,50,21000)\n",
    "  ]\n",
    "\n",
    "schema = [\"employee_name\",\"department\",\"state\",\"salary\",\"age\",\"bonus\"]\n",
    "df = spark.createDataFrame(data=simpleData, schema = schema)\n",
    "df.printSchema()\n",
    "df.show(truncate=False)"
   ]
  },
  {
   "cell_type": "code",
   "execution_count": 5,
   "id": "19f2551d",
   "metadata": {},
   "outputs": [],
   "source": [
    "df.createOrReplaceTempView(\"df\")"
   ]
  },
  {
   "cell_type": "code",
   "execution_count": 6,
   "id": "274bdbcf",
   "metadata": {
    "scrolled": true
   },
   "outputs": [
    {
     "name": "stdout",
     "output_type": "stream",
     "text": [
      "+-------------+----------+-----+------+---+-----+\n",
      "|employee_name|department|state|salary|age|bonus|\n",
      "+-------------+----------+-----+------+---+-----+\n",
      "|        James|     Sales|   NY| 90000| 34|10000|\n",
      "|      Michael|     Sales|   NY| 86000| 56|20000|\n",
      "|       Robert|     Sales|   CA| 81000| 30|23000|\n",
      "|        Maria|   Finance|   CA| 90000| 24|23000|\n",
      "|        Raman|   Finance|   CA| 99000| 40|24000|\n",
      "|        Scott|   Finance|   NY| 83000| 36|19000|\n",
      "|          Jen|   Finance|   NY| 79000| 53|15000|\n",
      "|         Jeff| Marketing|   CA| 80000| 25|18000|\n",
      "|        Kumar| Marketing|   NY| 91000| 50|21000|\n",
      "+-------------+----------+-----+------+---+-----+\n",
      "\n"
     ]
    }
   ],
   "source": [
    "spark.sql(\"select * from df\").show()"
   ]
  },
  {
   "cell_type": "code",
   "execution_count": 7,
   "id": "a042de0a",
   "metadata": {
    "scrolled": false
   },
   "outputs": [
    {
     "name": "stdout",
     "output_type": "stream",
     "text": [
      "+-------------+----------+-----+------+---+-----+\n",
      "|employee_name|department|state|salary|age|bonus|\n",
      "+-------------+----------+-----+------+---+-----+\n",
      "|        James|     Sales|   NY| 90000| 34|10000|\n",
      "|         Jeff| Marketing|   CA| 80000| 25|18000|\n",
      "|          Jen|   Finance|   NY| 79000| 53|15000|\n",
      "|        Kumar| Marketing|   NY| 91000| 50|21000|\n",
      "|        Maria|   Finance|   CA| 90000| 24|23000|\n",
      "|      Michael|     Sales|   NY| 86000| 56|20000|\n",
      "|        Raman|   Finance|   CA| 99000| 40|24000|\n",
      "|       Robert|     Sales|   CA| 81000| 30|23000|\n",
      "|        Scott|   Finance|   NY| 83000| 36|19000|\n",
      "+-------------+----------+-----+------+---+-----+\n",
      "\n"
     ]
    }
   ],
   "source": [
    "spark.sql(\"select * from df order by employee_name asc\").show()"
   ]
  },
  {
   "cell_type": "code",
   "execution_count": 23,
   "id": "051a834e",
   "metadata": {
    "scrolled": true
   },
   "outputs": [
    {
     "name": "stdout",
     "output_type": "stream",
     "text": [
      "+-------------+----------+\n",
      "|employee_name|department|\n",
      "+-------------+----------+\n",
      "|        James|     Sales|\n",
      "|      Michael|     Sales|\n",
      "|       Robert|     Sales|\n",
      "|        Maria|   Finance|\n",
      "|        Raman|   Finance|\n",
      "|        Scott|   Finance|\n",
      "|          Jen|   Finance|\n",
      "|         Jeff| Marketing|\n",
      "|        Kumar| Marketing|\n",
      "+-------------+----------+\n",
      "\n"
     ]
    }
   ],
   "source": [
    "spark.sql(\"select employee_name,department from df group by department,employee_name \").show()"
   ]
  },
  {
   "cell_type": "code",
   "execution_count": 32,
   "id": "064e06cd",
   "metadata": {
    "scrolled": true
   },
   "outputs": [
    {
     "name": "stdout",
     "output_type": "stream",
     "text": [
      "+-----+\n",
      "|count|\n",
      "+-----+\n",
      "|    9|\n",
      "+-----+\n",
      "\n"
     ]
    }
   ],
   "source": [
    "spark.sql(\"select count(employee_name)as count from df\").show()"
   ]
  },
  {
   "cell_type": "code",
   "execution_count": 26,
   "id": "470561a5",
   "metadata": {
    "scrolled": true
   },
   "outputs": [
    {
     "name": "stdout",
     "output_type": "stream",
     "text": [
      "+--------------------+\n",
      "|count(employee_name)|\n",
      "+--------------------+\n",
      "|                   7|\n",
      "+--------------------+\n",
      "\n"
     ]
    }
   ],
   "source": [
    "spark.sql(\"select count(employee_name) from df  where salary>80000\").show()"
   ]
  },
  {
   "cell_type": "code",
   "execution_count": 27,
   "id": "b7f66fcf",
   "metadata": {},
   "outputs": [
    {
     "name": "stdout",
     "output_type": "stream",
     "text": [
      "+------------------+\n",
      "|avg(employee_name)|\n",
      "+------------------+\n",
      "|              null|\n",
      "+------------------+\n",
      "\n"
     ]
    }
   ],
   "source": [
    "spark.sql(\"select avg(employee_name) from df\").show()"
   ]
  },
  {
   "cell_type": "code",
   "execution_count": 7,
   "id": "459f47f5",
   "metadata": {
    "scrolled": true
   },
   "outputs": [
    {
     "name": "stdout",
     "output_type": "stream",
     "text": [
      "+-----------------+\n",
      "|      avg(salary)|\n",
      "+-----------------+\n",
      "|86555.55555555556|\n",
      "+-----------------+\n",
      "\n"
     ]
    }
   ],
   "source": [
    "spark.sql(\"select avg(salary) from df\").show()"
   ]
  },
  {
   "cell_type": "code",
   "execution_count": 33,
   "id": "c1b5f979",
   "metadata": {
    "scrolled": true
   },
   "outputs": [
    {
     "name": "stdout",
     "output_type": "stream",
     "text": [
      "+-----------------+\n",
      "|      avg(salary)|\n",
      "+-----------------+\n",
      "|85666.66666666667|\n",
      "+-----------------+\n",
      "\n"
     ]
    }
   ],
   "source": [
    "spark.sql(\"select avg(salary) from df where department='Sales'\").show()"
   ]
  },
  {
   "cell_type": "code",
   "execution_count": 8,
   "id": "87062654",
   "metadata": {},
   "outputs": [
    {
     "name": "stdout",
     "output_type": "stream",
     "text": [
      "+-----------+\n",
      "|sum(salary)|\n",
      "+-----------+\n",
      "|     257000|\n",
      "+-----------+\n",
      "\n"
     ]
    }
   ],
   "source": [
    "spark.sql(\"select sum(salary) from df where department='Sales'\").show()"
   ]
  },
  {
   "cell_type": "code",
   "execution_count": 32,
   "id": "8e2e61b0",
   "metadata": {
    "scrolled": false
   },
   "outputs": [
    {
     "name": "stdout",
     "output_type": "stream",
     "text": [
      "++\n",
      "||\n",
      "++\n",
      "++\n",
      "\n"
     ]
    }
   ],
   "source": [
    "spark.sql(\"create temp view df1 as select df.employee_name, df.salary from df\").show()"
   ]
  },
  {
   "cell_type": "code",
   "execution_count": 20,
   "id": "9b5f4b19",
   "metadata": {
    "scrolled": true
   },
   "outputs": [
    {
     "name": "stdout",
     "output_type": "stream",
     "text": [
      "+-------------+---+------+\n",
      "|employee_name|age|salary|\n",
      "+-------------+---+------+\n",
      "|        James| 34|270000|\n",
      "|      Michael| 56|258000|\n",
      "|       Robert| 30|243000|\n",
      "|        Maria| 24|270000|\n",
      "|        Raman| 40|297000|\n",
      "|        Scott| 36|249000|\n",
      "|          Jen| 53|237000|\n",
      "|         Jeff| 25|240000|\n",
      "|        Kumar| 50|273000|\n",
      "+-------------+---+------+\n",
      "\n"
     ]
    }
   ],
   "source": [
    "spark. sql (\"select employee_name,age,salary*3 as salary from df\").show()"
   ]
  },
  {
   "cell_type": "code",
   "execution_count": 24,
   "id": "eaa7f3c4",
   "metadata": {
    "scrolled": false
   },
   "outputs": [
    {
     "name": "stdout",
     "output_type": "stream",
     "text": [
      "++\n",
      "||\n",
      "++\n",
      "++\n",
      "\n"
     ]
    }
   ],
   "source": [
    "spark.sql(\"drop view df_view1\").show()"
   ]
  },
  {
   "cell_type": "code",
   "execution_count": 33,
   "id": "d2e39e26",
   "metadata": {
    "scrolled": false
   },
   "outputs": [
    {
     "name": "stdout",
     "output_type": "stream",
     "text": [
      "+-------------+------+\n",
      "|employee_name|salary|\n",
      "+-------------+------+\n",
      "|        James| 90000|\n",
      "|      Michael| 86000|\n",
      "|       Robert| 81000|\n",
      "|        Maria| 90000|\n",
      "|        Raman| 99000|\n",
      "|        Scott| 83000|\n",
      "|          Jen| 79000|\n",
      "|         Jeff| 80000|\n",
      "|        Kumar| 91000|\n",
      "+-------------+------+\n",
      "\n"
     ]
    }
   ],
   "source": [
    "spark.sql(\"select * from df1\").show()"
   ]
  },
  {
   "cell_type": "code",
   "execution_count": 36,
   "id": "421af866",
   "metadata": {
    "scrolled": true
   },
   "outputs": [
    {
     "name": "stdout",
     "output_type": "stream",
     "text": [
      "+---------+---------+-----------+\n",
      "|namespace| viewName|isTemporary|\n",
      "+---------+---------+-----------+\n",
      "|         |       df|       true|\n",
      "|         |      df1|       true|\n",
      "|         | df_view9|       true|\n",
      "|         |df_view99|       true|\n",
      "+---------+---------+-----------+\n",
      "\n"
     ]
    }
   ],
   "source": [
    "spark.sql(\"show views\").show()"
   ]
  },
  {
   "cell_type": "code",
   "execution_count": 12,
   "id": "11062bef",
   "metadata": {
    "scrolled": true
   },
   "outputs": [
    {
     "name": "stdout",
     "output_type": "stream",
     "text": [
      "+-------+---+\n",
      "|  names|age|\n",
      "+-------+---+\n",
      "|  noori| 25|\n",
      "|sabeeha| 22|\n",
      "|  noori| 25|\n",
      "+-------+---+\n",
      "\n"
     ]
    }
   ],
   "source": [
    "spark=SparkSession.builder.appName('duplicate').getOrCreate()\n",
    "emp=[(\"noori\",25),\n",
    "     (\"sabeeha\",22),\n",
    "     (\"noori\",25)\n",
    "    ]\n",
    "empc=[\"names\",\"age\"]\n",
    "empDF=spark.createDataFrame(emp,empc)\n",
    "empDF.show()"
   ]
  },
  {
   "cell_type": "code",
   "execution_count": 13,
   "id": "3c587219",
   "metadata": {},
   "outputs": [],
   "source": [
    "empDF.createOrReplaceTempView(\"empDF\")"
   ]
  },
  {
   "cell_type": "code",
   "execution_count": 62,
   "id": "9d715f06",
   "metadata": {
    "scrolled": true
   },
   "outputs": [
    {
     "name": "stdout",
     "output_type": "stream",
     "text": [
      "+-------+\n",
      "|  names|\n",
      "+-------+\n",
      "|  noori|\n",
      "|sabeeha|\n",
      "+-------+\n",
      "\n"
     ]
    }
   ],
   "source": [
    "spark.sql(\"select DISTINCT names from empDF\").show()"
   ]
  },
  {
   "cell_type": "code",
   "execution_count": 66,
   "id": "143b8d06",
   "metadata": {
    "scrolled": false
   },
   "outputs": [
    {
     "name": "stdout",
     "output_type": "stream",
     "text": [
      "+-------------+----------+-----+------+---+-----+\n",
      "|employee_name|department|state|salary|age|bonus|\n",
      "+-------------+----------+-----+------+---+-----+\n",
      "|        James|     Sales|   NY| 90000| 34|10000|\n",
      "|          Jen|   Finance|   NY| 79000| 53|15000|\n",
      "|         Jeff| Marketing|   CA| 80000| 25|18000|\n",
      "+-------------+----------+-----+------+---+-----+\n",
      "\n"
     ]
    }
   ],
   "source": [
    "spark.sql(\"select * from df where employee_name like 'J%'\").show()"
   ]
  },
  {
   "cell_type": "code",
   "execution_count": 9,
   "id": "79e6c046",
   "metadata": {},
   "outputs": [
    {
     "name": "stdout",
     "output_type": "stream",
     "text": [
      "+-------+---+\n",
      "|   name|age|\n",
      "+-------+---+\n",
      "|  noori| 25|\n",
      "|sabeeha| 22|\n",
      "|   ammi| 25|\n",
      "+-------+---+\n",
      "\n"
     ]
    }
   ],
   "source": [
    "spark=SparkSession.builder.appName('duplicate').getOrCreate()\n",
    "emp=[(\"noori\",25),\n",
    "     (\"sabeeha\",22),\n",
    "     (\"ammi\",25)\n",
    "    ]\n",
    "empc=[\"name\",\"age\"]\n",
    "empDF1=spark.createDataFrame(emp,empc)\n",
    "empDF1.show()"
   ]
  },
  {
   "cell_type": "code",
   "execution_count": 10,
   "id": "873ffef2",
   "metadata": {},
   "outputs": [],
   "source": [
    "empDF1.createOrReplaceTempView(\"empDF1\")"
   ]
  },
  {
   "cell_type": "code",
   "execution_count": 14,
   "id": "8aa771cb",
   "metadata": {
    "scrolled": true
   },
   "outputs": [
    {
     "name": "stdout",
     "output_type": "stream",
     "text": [
      "+-------+\n",
      "|  names|\n",
      "+-------+\n",
      "|  noori|\n",
      "|sabeeha|\n",
      "+-------+\n",
      "\n"
     ]
    }
   ],
   "source": [
    "spark.sql(\"select names from empDF join empDF1 on empDF.age==empDF1.age intersect select names from empDF full join empDF1 on empDF.age==empDF1.age \").show()"
   ]
  },
  {
   "cell_type": "code",
   "execution_count": 89,
   "id": "6b74368f",
   "metadata": {
    "scrolled": true
   },
   "outputs": [
    {
     "name": "stdout",
     "output_type": "stream",
     "text": [
      "+-------+---+\n",
      "|  names|age|\n",
      "+-------+---+\n",
      "|   ammi| 25|\n",
      "|  noori| 25|\n",
      "|sabeeha| 22|\n",
      "+-------+---+\n",
      "\n"
     ]
    }
   ],
   "source": [
    "empDF.intersect(empDF1).show()"
   ]
  },
  {
   "cell_type": "code",
   "execution_count": 81,
   "id": "afcce6c0",
   "metadata": {},
   "outputs": [
    {
     "name": "stdout",
     "output_type": "stream",
     "text": [
      "+-------------+----------+-----+------+---+-----+\n",
      "|employee_name|department|state|salary|age|bonus|\n",
      "+-------------+----------+-----+------+---+-----+\n",
      "|        James|     Sales|   NY| 90000| 34|10000|\n",
      "|      Michael|     Sales|   NY| 86000| 56|20000|\n",
      "|       Robert|     Sales|   CA| 81000| 30|23000|\n",
      "|        Maria|   Finance|   CA| 90000| 24|23000|\n",
      "|        Raman|   Finance|   CA| 99000| 40|24000|\n",
      "|        Scott|   Finance|   NY| 83000| 36|19000|\n",
      "|          Jen|   Finance|   NY| 79000| 53|15000|\n",
      "|         Jeff| Marketing|   CA| 80000| 25|18000|\n",
      "|        Kumar| Marketing|   NY| 91000| 50|21000|\n",
      "+-------------+----------+-----+------+---+-----+\n",
      "\n"
     ]
    }
   ],
   "source": [
    "df.show()"
   ]
  },
  {
   "cell_type": "code",
   "execution_count": 26,
   "id": "946aa3fd",
   "metadata": {},
   "outputs": [
    {
     "name": "stdout",
     "output_type": "stream",
     "text": [
      "+-----+------+\n",
      "|bonus|salary|\n",
      "+-----+------+\n",
      "|90000| 10000|\n",
      "|86000| 20000|\n",
      "|81000| 23000|\n",
      "|90000| 23000|\n",
      "|99000| 24000|\n",
      "|83000| 19000|\n",
      "|79000| 15000|\n",
      "|80000| 18000|\n",
      "|91000| 21000|\n",
      "+-----+------+\n",
      "\n"
     ]
    }
   ],
   "source": [
    "df.select(col(\"salary\").alias(\"bonus\"),col(\"bonus\").alias(\"salary\")).show()"
   ]
  },
  {
   "cell_type": "code",
   "execution_count": null,
   "id": "61c815fe",
   "metadata": {},
   "outputs": [],
   "source": []
  }
 ],
 "metadata": {
  "kernelspec": {
   "display_name": "Python 3 (ipykernel)",
   "language": "python",
   "name": "python3"
  },
  "language_info": {
   "codemirror_mode": {
    "name": "ipython",
    "version": 3
   },
   "file_extension": ".py",
   "mimetype": "text/x-python",
   "name": "python",
   "nbconvert_exporter": "python",
   "pygments_lexer": "ipython3",
   "version": "3.9.13"
  }
 },
 "nbformat": 4,
 "nbformat_minor": 5
}
