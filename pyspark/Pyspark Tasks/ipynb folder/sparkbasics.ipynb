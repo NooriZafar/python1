{
  "cells": [
    {
      "cell_type": "code",
      "execution_count": null,
      "metadata": {
        "colab": {
          "base_uri": "https://localhost:8080/"
        },
        "id": "1gjluRnFzpHl",
        "outputId": "953fd609-0835-4daf-d033-8c1103c3607e"
      },
      "outputs": [
        {
          "output_type": "stream",
          "name": "stdout",
          "text": [
            "Looking in indexes: https://pypi.org/simple, https://us-python.pkg.dev/colab-wheels/public/simple/\n",
            "Collecting pyspark\n",
            "  Downloading pyspark-3.3.1.tar.gz (281.4 MB)\n",
            "\u001b[K     |████████████████████████████████| 281.4 MB 41 kB/s \n",
            "\u001b[?25hCollecting py4j==0.10.9.5\n",
            "  Downloading py4j-0.10.9.5-py2.py3-none-any.whl (199 kB)\n",
            "\u001b[K     |████████████████████████████████| 199 kB 49.9 MB/s \n",
            "\u001b[?25hBuilding wheels for collected packages: pyspark\n",
            "  Building wheel for pyspark (setup.py) ... \u001b[?25l\u001b[?25hdone\n",
            "  Created wheel for pyspark: filename=pyspark-3.3.1-py2.py3-none-any.whl size=281845512 sha256=ae671e29113c26eb51e8ef5be927c92fd6822147b48f1d91f048ee15c616e660\n",
            "  Stored in directory: /root/.cache/pip/wheels/42/59/f5/79a5bf931714dcd201b26025347785f087370a10a3329a899c\n",
            "Successfully built pyspark\n",
            "Installing collected packages: py4j, pyspark\n",
            "Successfully installed py4j-0.10.9.5 pyspark-3.3.1\n"
          ]
        }
      ],
      "source": [
        "!pip install pyspark\n"
      ]
    },
    {
      "cell_type": "code",
      "execution_count": null,
      "metadata": {
        "id": "l-Xmlw4uKMC_"
      },
      "outputs": [],
      "source": [
        "from pyspark.sql.window import Window\n",
        "from pyspark.sql import *"
      ]
    },
    {
      "cell_type": "code",
      "execution_count": null,
      "metadata": {
        "id": "6AWSImxzzns9"
      },
      "outputs": [],
      "source": [
        "import pyspark"
      ]
    },
    {
      "cell_type": "code",
      "execution_count": null,
      "metadata": {
        "id": "go-7t5e60OT2"
      },
      "outputs": [],
      "source": [
        "from pyspark.sql import *\n",
        "spark=SparkSession.builder.appName('practise').getOrCreate()"
      ]
    },
    {
      "cell_type": "code",
      "execution_count": null,
      "metadata": {
        "colab": {
          "base_uri": "https://localhost:8080/",
          "height": 219
        },
        "id": "F53MFCrj0PR3",
        "outputId": "a6d20e9f-6fb7-45ed-83e3-0e1260bfb862"
      },
      "outputs": [
        {
          "data": {
            "text/html": [
              "\n",
              "            <div>\n",
              "                <p><b>SparkSession - in-memory</b></p>\n",
              "                \n",
              "        <div>\n",
              "            <p><b>SparkContext</b></p>\n",
              "\n",
              "            <p><a href=\"http://1d9d4ea5412d:4040\">Spark UI</a></p>\n",
              "\n",
              "            <dl>\n",
              "              <dt>Version</dt>\n",
              "                <dd><code>v3.3.0</code></dd>\n",
              "              <dt>Master</dt>\n",
              "                <dd><code>local[*]</code></dd>\n",
              "              <dt>AppName</dt>\n",
              "                <dd><code>practise</code></dd>\n",
              "            </dl>\n",
              "        </div>\n",
              "        \n",
              "            </div>\n",
              "        "
            ],
            "text/plain": [
              "<pyspark.sql.session.SparkSession at 0x7f69a2f66d90>"
            ]
          },
          "execution_count": 5,
          "metadata": {},
          "output_type": "execute_result"
        }
      ],
      "source": [
        "spark"
      ]
    },
    {
      "cell_type": "code",
      "execution_count": null,
      "metadata": {
        "id": "gRHBKumD1g2A"
      },
      "outputs": [],
      "source": [
        "df_pyspark=spark.read.csv('/content/text1.csv')"
      ]
    },
    {
      "cell_type": "code",
      "execution_count": null,
      "metadata": {
        "colab": {
          "base_uri": "https://localhost:8080/"
        },
        "id": "g_a5XJlB1g9Q",
        "outputId": "8e73463e-2b14-41d7-fbf8-8c5781f90fef"
      },
      "outputs": [
        {
          "output_type": "execute_result",
          "data": {
            "text/plain": [
              "DataFrame[_c0: string, _c1: string]"
            ]
          },
          "metadata": {},
          "execution_count": 9
        }
      ],
      "source": [
        "df_pyspark"
      ]
    },
    {
      "cell_type": "code",
      "execution_count": null,
      "metadata": {
        "colab": {
          "base_uri": "https://localhost:8080/"
        },
        "id": "hygBCitJ4Mos",
        "outputId": "6cc70dff-4a12-46e3-cea0-1bdf1ecaf768"
      },
      "outputs": [
        {
          "output_type": "stream",
          "name": "stdout",
          "text": [
            "+------+---+\n",
            "|   _c0|_c1|\n",
            "+------+---+\n",
            "|  Name|Age|\n",
            "|  Pavi| 21|\n",
            "|Joshna| 23|\n",
            "|Sindhu| 21|\n",
            "|   Sri| 22|\n",
            "|Suhana| 24|\n",
            "| Aliya| 23|\n",
            "+------+---+\n",
            "\n"
          ]
        }
      ],
      "source": [
        "df_pyspark.show()"
      ]
    },
    {
      "cell_type": "code",
      "execution_count": null,
      "metadata": {
        "colab": {
          "base_uri": "https://localhost:8080/"
        },
        "id": "HBY6xVFs4eH7",
        "outputId": "c4573b0c-f7e3-4f36-c861-f401a2033340"
      },
      "outputs": [
        {
          "output_type": "stream",
          "name": "stdout",
          "text": [
            "root\n",
            " |-- Name: string (nullable = true)\n",
            " |-- Age: integer (nullable = true)\n",
            "\n",
            "+------+---+\n",
            "|  Name|Age|\n",
            "+------+---+\n",
            "|  Pavi| 21|\n",
            "|Joshna| 23|\n",
            "|Sindhu| 21|\n",
            "|   Sri| 22|\n",
            "|Suhana| 24|\n",
            "| Aliya| 23|\n",
            "+------+---+\n",
            "\n"
          ]
        }
      ],
      "source": [
        "df_pyspark=spark.read.csv('/content/text1.csv',header=True,inferSchema=True)\n",
        "df_pyspark.printSchema()\n",
        "df_pyspark.show()\n"
      ]
    },
    {
      "cell_type": "code",
      "execution_count": null,
      "metadata": {
        "colab": {
          "base_uri": "https://localhost:8080/"
        },
        "id": "uFJsCQYy4eXQ",
        "outputId": "3c1e29eb-fe6a-4adf-fba6-74baff4e1059"
      },
      "outputs": [
        {
          "data": {
            "text/plain": [
              "['Name', 'Age']"
            ]
          },
          "execution_count": 10,
          "metadata": {},
          "output_type": "execute_result"
        }
      ],
      "source": [
        "df_pyspark.columns"
      ]
    },
    {
      "cell_type": "code",
      "execution_count": null,
      "metadata": {
        "colab": {
          "base_uri": "https://localhost:8080/"
        },
        "id": "xe0EcGSu4Mrh",
        "outputId": "f4edc48b-c067-492b-cf80-60bd71d64607"
      },
      "outputs": [
        {
          "name": "stdout",
          "output_type": "stream",
          "text": [
            "+---+------+\n",
            "|age|  name|\n",
            "+---+------+\n",
            "| 21|  Pavi|\n",
            "| 21| Noori|\n",
            "| 21|Joshna|\n",
            "| 22|Sindhu|\n",
            "| 22|Suhana|\n",
            "+---+------+\n",
            "\n"
          ]
        }
      ],
      "source": [
        "df_pyspark.select(['age','name']).show()"
      ]
    },
    {
      "cell_type": "code",
      "source": [
        "df_pyspark.select(['name']).show()"
      ],
      "metadata": {
        "colab": {
          "base_uri": "https://localhost:8080/"
        },
        "id": "kJ4C5Y6LOele",
        "outputId": "ffb279ac-2372-48c9-88c3-4bb42721708c"
      },
      "execution_count": null,
      "outputs": [
        {
          "output_type": "stream",
          "name": "stdout",
          "text": [
            "+------+\n",
            "|  name|\n",
            "+------+\n",
            "|  Pavi|\n",
            "|Joshna|\n",
            "|Sindhu|\n",
            "|   Sri|\n",
            "|Suhana|\n",
            "| Aliya|\n",
            "+------+\n",
            "\n"
          ]
        }
      ]
    },
    {
      "cell_type": "code",
      "execution_count": null,
      "metadata": {
        "colab": {
          "base_uri": "https://localhost:8080/"
        },
        "id": "hOY4ifcv4Mt8",
        "outputId": "95af6bbd-e89c-40c4-a5cf-d26256c9c261"
      },
      "outputs": [
        {
          "data": {
            "text/plain": [
              "[('Name', 'string'), ('Age', 'int')]"
            ]
          },
          "execution_count": 16,
          "metadata": {},
          "output_type": "execute_result"
        }
      ],
      "source": [
        "df_pyspark.dtypes"
      ]
    },
    {
      "cell_type": "code",
      "execution_count": null,
      "metadata": {
        "colab": {
          "base_uri": "https://localhost:8080/"
        },
        "id": "cOZvYTP64Mwx",
        "outputId": "e0f4e553-5836-4d39-f54c-a47b1bf6e88e"
      },
      "outputs": [
        {
          "name": "stdout",
          "output_type": "stream",
          "text": [
            "+-------+------+------------------+\n",
            "|summary|  Name|               Age|\n",
            "+-------+------+------------------+\n",
            "|  count|     5|                 5|\n",
            "|   mean|  null|              21.4|\n",
            "| stddev|  null|0.5477225575051661|\n",
            "|    min|Joshna|                21|\n",
            "|    max|Suhana|                22|\n",
            "+-------+------+------------------+\n",
            "\n"
          ]
        }
      ],
      "source": [
        "df_pyspark.describe().show()"
      ]
    },
    {
      "cell_type": "code",
      "execution_count": null,
      "metadata": {
        "colab": {
          "base_uri": "https://localhost:8080/"
        },
        "id": "VPMyDU-P4M0M",
        "outputId": "6869ea77-1dc9-49c9-d10d-f9ba67f5bc7f"
      },
      "outputs": [
        {
          "name": "stdout",
          "output_type": "stream",
          "text": [
            "+------+---+-----------------+\n",
            "|  Name|Age|age after 2 years|\n",
            "+------+---+-----------------+\n",
            "|  Pavi| 21|               23|\n",
            "| Noori| 21|               23|\n",
            "|Joshna| 21|               23|\n",
            "|Sindhu| 22|               24|\n",
            "|Suhana| 22|               24|\n",
            "+------+---+-----------------+\n",
            "\n"
          ]
        }
      ],
      "source": [
        "df_pyspark.withColumn('age after 2 years',df_pyspark['age']+2).show()\n"
      ]
    },
    {
      "cell_type": "code",
      "execution_count": null,
      "metadata": {
        "colab": {
          "base_uri": "https://localhost:8080/"
        },
        "id": "02wF37--7kgr",
        "outputId": "29ba744e-8dd9-4ee8-abba-eda248034594"
      },
      "outputs": [
        {
          "name": "stdout",
          "output_type": "stream",
          "text": [
            "+------+---+\n",
            "|  Name|Age|\n",
            "+------+---+\n",
            "|  Pavi| 21|\n",
            "| Noori| 21|\n",
            "|Joshna| 21|\n",
            "|Sindhu| 22|\n",
            "|Suhana| 22|\n",
            "+------+---+\n",
            "\n"
          ]
        }
      ],
      "source": [
        "df_pyspark.drop('age after 2 years').show()"
      ]
    },
    {
      "cell_type": "code",
      "execution_count": null,
      "metadata": {
        "colab": {
          "base_uri": "https://localhost:8080/"
        },
        "id": "YkY1HYEU7s4b",
        "outputId": "449f00d8-951e-4599-a3b4-5bfe7cea3a65"
      },
      "outputs": [
        {
          "name": "stdout",
          "output_type": "stream",
          "text": [
            "+------+---+\n",
            "|  name|Age|\n",
            "+------+---+\n",
            "|  Pavi| 21|\n",
            "| Noori| 21|\n",
            "|Joshna| 21|\n",
            "|Sindhu| 22|\n",
            "|Suhana| 22|\n",
            "+------+---+\n",
            "\n"
          ]
        }
      ],
      "source": [
        "df_pyspark.withColumnRenamed('Name','name').show()"
      ]
    },
    {
      "cell_type": "code",
      "execution_count": null,
      "metadata": {
        "colab": {
          "base_uri": "https://localhost:8080/"
        },
        "id": "N7ecsyY79x7Q",
        "outputId": "9280fe04-16f6-474e-f187-15cb2822465d"
      },
      "outputs": [
        {
          "data": {
            "text/plain": [
              "[Row(Name='Pavi', Age=21),\n",
              " Row(Name='Noori', Age=21),\n",
              " Row(Name='Joshna', Age=21)]"
            ]
          },
          "execution_count": 34,
          "metadata": {},
          "output_type": "execute_result"
        }
      ],
      "source": [
        "df_pyspark.head(3)\n"
      ]
    },
    {
      "cell_type": "code",
      "execution_count": null,
      "metadata": {
        "colab": {
          "base_uri": "https://localhost:8080/"
        },
        "id": "Ok1X8GdU_649",
        "outputId": "ac8dd0ad-d2dc-431b-fc09-a3f7927259d0"
      },
      "outputs": [
        {
          "name": "stdout",
          "output_type": "stream",
          "text": [
            "+------+---+----+\n",
            "|  Name|Age|age2|\n",
            "+------+---+----+\n",
            "|  Pavi| 21|  23|\n",
            "| Noori| 21|  23|\n",
            "|Joshna| 21|  23|\n",
            "|Sindhu| 22|  24|\n",
            "|Suhana| 22|  24|\n",
            "+------+---+----+\n",
            "\n"
          ]
        }
      ],
      "source": [
        "df_pyspark.withColumn('age2',df_pyspark['age']+2).show()"
      ]
    },
    {
      "cell_type": "code",
      "execution_count": null,
      "metadata": {
        "colab": {
          "base_uri": "https://localhost:8080/"
        },
        "id": "jbr8G4ncAiQd",
        "outputId": "0343987d-882e-4df2-ede4-934f6ab99788"
      },
      "outputs": [
        {
          "name": "stdout",
          "output_type": "stream",
          "text": [
            "+------+---+-----+\n",
            "|  Name|Age|total|\n",
            "+------+---+-----+\n",
            "|  Pavi| 21|   42|\n",
            "| Noori| 21|   42|\n",
            "|Joshna| 21|   42|\n",
            "|Sindhu| 22|   44|\n",
            "|Suhana| 22|   44|\n",
            "+------+---+-----+\n",
            "\n"
          ]
        }
      ],
      "source": [
        "df_pyspark.withColumn('total',df_pyspark.Age + df_pyspark.Age).show()"
      ]
    },
    {
      "cell_type": "code",
      "execution_count": null,
      "metadata": {
        "colab": {
          "base_uri": "https://localhost:8080/"
        },
        "id": "JWHnqMMuBnzL",
        "outputId": "1a473593-a519-41ed-bd09-d28c62775f4e"
      },
      "outputs": [
        {
          "output_type": "stream",
          "name": "stdout",
          "text": [
            "root\n",
            " |-- employee_name: string (nullable = true)\n",
            " |-- department: string (nullable = true)\n",
            " |-- state: string (nullable = true)\n",
            " |-- salary: long (nullable = true)\n",
            " |-- age: long (nullable = true)\n",
            " |-- bonus: long (nullable = true)\n",
            "\n",
            "+-------------+----------+-----+------+---+-----+\n",
            "|employee_name|department|state|salary|age|bonus|\n",
            "+-------------+----------+-----+------+---+-----+\n",
            "|James        |Sales     |NY   |90000 |34 |10000|\n",
            "|Michael      |Sales     |NY   |86000 |56 |20000|\n",
            "|Robert       |Sales     |CA   |81000 |30 |23000|\n",
            "|Maria        |Finance   |CA   |90000 |24 |23000|\n",
            "|Raman        |Finance   |CA   |99000 |40 |24000|\n",
            "|Scott        |Finance   |NY   |83000 |36 |19000|\n",
            "|Jen          |Finance   |NY   |79000 |53 |15000|\n",
            "|Jeff         |Marketing |CA   |80000 |25 |18000|\n",
            "|Kumar        |Marketing |NY   |91000 |50 |21000|\n",
            "+-------------+----------+-----+------+---+-----+\n",
            "\n"
          ]
        }
      ],
      "source": [
        "import pyspark\n",
        "from pyspark.sql import SparkSession\n",
        "from pyspark.sql.functions import col,sum,avg,max\n",
        "\n",
        "spark = SparkSession.builder.appName('SparkByExamples').getOrCreate()\n",
        "\n",
        "simpleData = [(\"James\",\"Sales\",\"NY\",90000,34,10000),\n",
        "    (\"Michael\",\"Sales\",\"NY\",86000,56,20000),\n",
        "    (\"Robert\",\"Sales\",\"CA\",81000,30,23000),\n",
        "    (\"Maria\",\"Finance\",\"CA\",90000,24,23000),\n",
        "    (\"Raman\",\"Finance\",\"CA\",99000,40,24000),\n",
        "    (\"Scott\",\"Finance\",\"NY\",83000,36,19000),\n",
        "    (\"Jen\",\"Finance\",\"NY\",79000,53,15000),\n",
        "    (\"Jeff\",\"Marketing\",\"CA\",80000,25,18000),\n",
        "    (\"Kumar\",\"Marketing\",\"NY\",91000,50,21000)\n",
        "  ]\n",
        "\n",
        "schema = [\"employee_name\",\"department\",\"state\",\"salary\",\"age\",\"bonus\"]\n",
        "df = spark.createDataFrame(data=simpleData, schema = schema)\n",
        "df.printSchema()\n",
        "df.show(truncate=False)\n"
      ]
    },
    {
      "cell_type": "code",
      "execution_count": null,
      "metadata": {
        "colab": {
          "base_uri": "https://localhost:8080/"
        },
        "id": "RUzGMJQp_IEg",
        "outputId": "a85aeb2e-6e6b-417e-d46c-6c5c82fdf28e"
      },
      "outputs": [
        {
          "name": "stdout",
          "output_type": "stream",
          "text": [
            "+----------+-----+\n",
            "|department|count|\n",
            "+----------+-----+\n",
            "|     Sales|    3|\n",
            "|   Finance|    4|\n",
            "| Marketing|    2|\n",
            "+----------+-----+\n",
            "\n"
          ]
        }
      ],
      "source": [
        "df.groupBy(\"department\").count().show()"
      ]
    },
    {
      "cell_type": "code",
      "execution_count": null,
      "metadata": {
        "colab": {
          "base_uri": "https://localhost:8080/"
        },
        "id": "0TsAUjsEAGXi",
        "outputId": "4934bdbe-4cf6-4b81-c7b2-06a360e66e93"
      },
      "outputs": [
        {
          "name": "stdout",
          "output_type": "stream",
          "text": [
            "+----------+-----+-----------+--------+----------+\n",
            "|department|state|max(salary)|max(age)|max(bonus)|\n",
            "+----------+-----+-----------+--------+----------+\n",
            "|     Sales|   CA|      81000|      30|     23000|\n",
            "|   Finance|   CA|      99000|      40|     24000|\n",
            "|     Sales|   NY|      90000|      56|     20000|\n",
            "|   Finance|   NY|      83000|      53|     19000|\n",
            "| Marketing|   NY|      91000|      50|     21000|\n",
            "| Marketing|   CA|      80000|      25|     18000|\n",
            "+----------+-----+-----------+--------+----------+\n",
            "\n"
          ]
        }
      ],
      "source": [
        "df.groupBy(\"department\",\"state\").max().show()"
      ]
    },
    {
      "cell_type": "code",
      "execution_count": null,
      "metadata": {
        "colab": {
          "base_uri": "https://localhost:8080/"
        },
        "id": "qQGPxKzgAGkT",
        "outputId": "688aed85-4de5-4f6f-fe57-856d2f5fb51f"
      },
      "outputs": [
        {
          "name": "stdout",
          "output_type": "stream",
          "text": [
            "+------+-----+\n",
            "|salary|count|\n",
            "+------+-----+\n",
            "| 81000|    1|\n",
            "| 90000|    2|\n",
            "| 86000|    1|\n",
            "| 79000|    1|\n",
            "| 99000|    1|\n",
            "| 80000|    1|\n",
            "| 91000|    1|\n",
            "| 83000|    1|\n",
            "+------+-----+\n",
            "\n"
          ]
        }
      ],
      "source": [
        "df.groupBy(\"salary\").count().show()"
      ]
    },
    {
      "cell_type": "code",
      "execution_count": null,
      "metadata": {
        "colab": {
          "base_uri": "https://localhost:8080/"
        },
        "id": "nBO2RDXdBxJx",
        "outputId": "b1c96251-217a-44d7-97cd-10dfd6f7d8d9"
      },
      "outputs": [
        {
          "name": "stdout",
          "output_type": "stream",
          "text": [
            "+----------+-----------+\n",
            "|department|sum(salary)|\n",
            "+----------+-----------+\n",
            "|     Sales|     257000|\n",
            "|   Finance|     351000|\n",
            "| Marketing|     171000|\n",
            "+----------+-----------+\n",
            "\n"
          ]
        }
      ],
      "source": [
        "df.groupBy(\"department\").sum(\"salary\").show()"
      ]
    },
    {
      "cell_type": "code",
      "execution_count": null,
      "metadata": {
        "colab": {
          "base_uri": "https://localhost:8080/"
        },
        "id": "xD6PSWQHBxZm",
        "outputId": "60756201-1fb8-482e-c2be-6586b104f381"
      },
      "outputs": [
        {
          "name": "stdout",
          "output_type": "stream",
          "text": [
            "+----------+-----+-----------+----------+\n",
            "|department|state|sum(salary)|sum(bonus)|\n",
            "+----------+-----+-----------+----------+\n",
            "|     Sales|   CA|      81000|     23000|\n",
            "|   Finance|   CA|     189000|     47000|\n",
            "|     Sales|   NY|     176000|     30000|\n",
            "|   Finance|   NY|     162000|     34000|\n",
            "| Marketing|   NY|      91000|     21000|\n",
            "| Marketing|   CA|      80000|     18000|\n",
            "+----------+-----+-----------+----------+\n",
            "\n"
          ]
        }
      ],
      "source": [
        "df.groupBy(\"department\",\"state\").sum(\"salary\",\"bonus\").show()"
      ]
    },
    {
      "cell_type": "code",
      "execution_count": null,
      "metadata": {
        "colab": {
          "base_uri": "https://localhost:8080/"
        },
        "id": "M6n7Kqp5DiEN",
        "outputId": "cf8cf53a-4ffd-4340-bb1d-b39065db3536"
      },
      "outputs": [
        {
          "name": "stdout",
          "output_type": "stream",
          "text": [
            "+----------+----------+-----------------+\n",
            "|department|sum_salary|       avg_salary|\n",
            "+----------+----------+-----------------+\n",
            "|     Sales|    257000|85666.66666666667|\n",
            "|   Finance|    351000|          87750.0|\n",
            "| Marketing|    171000|          85500.0|\n",
            "+----------+----------+-----------------+\n",
            "\n"
          ]
        }
      ],
      "source": [
        "df.groupBy(\"department\").agg(sum(\"salary\").alias(\"sum_salary\"),\n",
        "                             avg(\"salary\").alias(\"avg_salary\")).show()"
      ]
    },
    {
      "cell_type": "code",
      "execution_count": null,
      "metadata": {
        "colab": {
          "base_uri": "https://localhost:8080/"
        },
        "id": "zqy47HnRDiXc",
        "outputId": "30581e89-ec98-42e8-9ac2-612f7922f770"
      },
      "outputs": [
        {
          "name": "stdout",
          "output_type": "stream",
          "text": [
            "+----------+----------+-----------------+\n",
            "|department|sum_salary|       avg_salary|\n",
            "+----------+----------+-----------------+\n",
            "|     Sales|    257000|85666.66666666667|\n",
            "|   Finance|    351000|          87750.0|\n",
            "+----------+----------+-----------------+\n",
            "\n"
          ]
        }
      ],
      "source": [
        "df.groupBy(\"department\").agg(sum(\"salary\").alias(\"sum_salary\"),\n",
        "                             avg(\"salary\").alias(\"avg_salary\"))\\\n",
        "                             .where(col(\"sum_salary\")>200000).show()"
      ]
    },
    {
      "cell_type": "code",
      "execution_count": null,
      "metadata": {
        "colab": {
          "base_uri": "https://localhost:8080/"
        },
        "id": "SV0D6ofsrFum",
        "outputId": "d8af3780-26d9-4b1f-cf96-de6b88ef086f"
      },
      "outputs": [
        {
          "name": "stdout",
          "output_type": "stream",
          "text": [
            "+-------------+----------+-----+------+---+-----+\n",
            "|employee_name|department|state|salary|age|bonus|\n",
            "+-------------+----------+-----+------+---+-----+\n",
            "|        Raman|   Finance|   CA| 99000| 40|24000|\n",
            "|          Jen|   Finance|   NY| 79000| 53|15000|\n",
            "|        Scott|   Finance|   NY| 83000| 36|19000|\n",
            "|        Maria|   Finance|   CA| 90000| 24|23000|\n",
            "|        Kumar| Marketing|   NY| 91000| 50|21000|\n",
            "|         Jeff| Marketing|   CA| 80000| 25|18000|\n",
            "|        James|     Sales|   NY| 90000| 34|10000|\n",
            "|      Michael|     Sales|   NY| 86000| 56|20000|\n",
            "|       Robert|     Sales|   CA| 81000| 30|23000|\n",
            "+-------------+----------+-----+------+---+-----+\n",
            "\n"
          ]
        }
      ],
      "source": [
        "df.sort(\"department\").show()"
      ]
    },
    {
      "cell_type": "code",
      "execution_count": null,
      "metadata": {
        "colab": {
          "base_uri": "https://localhost:8080/"
        },
        "id": "MhwpiP0HOVPg",
        "outputId": "59d355f5-2b55-4b05-ec0a-d23d62fe10a2"
      },
      "outputs": [
        {
          "name": "stdout",
          "output_type": "stream",
          "text": [
            "+-------------+----------+-----+------+---+-----+\n",
            "|employee_name|department|state|salary|age|bonus|\n",
            "+-------------+----------+-----+------+---+-----+\n",
            "|        Raman|   Finance|   CA| 99000| 40|24000|\n",
            "|        Maria|   Finance|   CA| 90000| 24|23000|\n",
            "|        Scott|   Finance|   NY| 83000| 36|19000|\n",
            "|          Jen|   Finance|   NY| 79000| 53|15000|\n",
            "|         Jeff| Marketing|   CA| 80000| 25|18000|\n",
            "|        Kumar| Marketing|   NY| 91000| 50|21000|\n",
            "|       Robert|     Sales|   CA| 81000| 30|23000|\n",
            "|        James|     Sales|   NY| 90000| 34|10000|\n",
            "|      Michael|     Sales|   NY| 86000| 56|20000|\n",
            "+-------------+----------+-----+------+---+-----+\n",
            "\n"
          ]
        }
      ],
      "source": [
        "df.sort(col(\"department\"),col(\"state\")).show()"
      ]
    },
    {
      "cell_type": "code",
      "execution_count": null,
      "metadata": {
        "colab": {
          "base_uri": "https://localhost:8080/"
        },
        "id": "Bfvj1oxsOVcu",
        "outputId": "7b1a537a-0f9d-4667-b478-3116d94fcead"
      },
      "outputs": [
        {
          "name": "stdout",
          "output_type": "stream",
          "text": [
            "+-------------+----------+-----+------+---+-----+\n",
            "|employee_name|department|state|salary|age|bonus|\n",
            "+-------------+----------+-----+------+---+-----+\n",
            "|        Raman|   Finance|   CA| 99000| 40|24000|\n",
            "|        Maria|   Finance|   CA| 90000| 24|23000|\n",
            "|        Scott|   Finance|   NY| 83000| 36|19000|\n",
            "|          Jen|   Finance|   NY| 79000| 53|15000|\n",
            "|         Jeff| Marketing|   CA| 80000| 25|18000|\n",
            "|        Kumar| Marketing|   NY| 91000| 50|21000|\n",
            "|       Robert|     Sales|   CA| 81000| 30|23000|\n",
            "|        James|     Sales|   NY| 90000| 34|10000|\n",
            "|      Michael|     Sales|   NY| 86000| 56|20000|\n",
            "+-------------+----------+-----+------+---+-----+\n",
            "\n"
          ]
        }
      ],
      "source": [
        "df.sort(\"department\",\"state\").show()"
      ]
    },
    {
      "cell_type": "code",
      "execution_count": null,
      "metadata": {
        "colab": {
          "base_uri": "https://localhost:8080/"
        },
        "id": "6ewcuWWDQogF",
        "outputId": "23b3a467-26a0-4d45-fbd2-6314bee45fc1"
      },
      "outputs": [
        {
          "name": "stdout",
          "output_type": "stream",
          "text": [
            "+-------------+----------+-----+------+---+-----+\n",
            "|employee_name|department|state|salary|age|bonus|\n",
            "+-------------+----------+-----+------+---+-----+\n",
            "|        Scott|   Finance|   NY| 83000| 36|19000|\n",
            "|       Robert|     Sales|   CA| 81000| 30|23000|\n",
            "|        Raman|   Finance|   CA| 99000| 40|24000|\n",
            "|      Michael|     Sales|   NY| 86000| 56|20000|\n",
            "|        Maria|   Finance|   CA| 90000| 24|23000|\n",
            "|        Kumar| Marketing|   NY| 91000| 50|21000|\n",
            "|          Jen|   Finance|   NY| 79000| 53|15000|\n",
            "|         Jeff| Marketing|   CA| 80000| 25|18000|\n",
            "|        James|     Sales|   NY| 90000| 34|10000|\n",
            "+-------------+----------+-----+------+---+-----+\n",
            "\n"
          ]
        }
      ],
      "source": [
        "from pyspark.sql.functions import desc\n",
        "df.orderBy(desc(\"employee_name\")).show()"
      ]
    },
    {
      "cell_type": "code",
      "execution_count": null,
      "metadata": {
        "colab": {
          "base_uri": "https://localhost:8080/"
        },
        "id": "Ie8Y4zCfQonE",
        "outputId": "95830380-1781-46fa-d190-036be5383e3e"
      },
      "outputs": [
        {
          "name": "stdout",
          "output_type": "stream",
          "text": [
            "+-------------+----------+-----+------+---+-----+\n",
            "|employee_name|department|state|salary|age|bonus|\n",
            "+-------------+----------+-----+------+---+-----+\n",
            "|        Raman|   Finance|   CA| 99000| 40|24000|\n",
            "|        Kumar| Marketing|   NY| 91000| 50|21000|\n",
            "|        James|     Sales|   NY| 90000| 34|10000|\n",
            "|        Maria|   Finance|   CA| 90000| 24|23000|\n",
            "|      Michael|     Sales|   NY| 86000| 56|20000|\n",
            "|        Scott|   Finance|   NY| 83000| 36|19000|\n",
            "|       Robert|     Sales|   CA| 81000| 30|23000|\n",
            "|         Jeff| Marketing|   CA| 80000| 25|18000|\n",
            "|          Jen|   Finance|   NY| 79000| 53|15000|\n",
            "+-------------+----------+-----+------+---+-----+\n",
            "\n"
          ]
        }
      ],
      "source": [
        "df1=df.sort(df.salary.desc()).show()"
      ]
    },
    {
      "cell_type": "code",
      "source": [
        "df.show()"
      ],
      "metadata": {
        "colab": {
          "base_uri": "https://localhost:8080/"
        },
        "id": "Homwldvcea4y",
        "outputId": "4a332bb8-8e6e-440d-ef87-6d9fea750e8e"
      },
      "execution_count": null,
      "outputs": [
        {
          "output_type": "stream",
          "name": "stdout",
          "text": [
            "+-------------+----------+-----+------+---+-----+\n",
            "|employee_name|department|state|salary|age|bonus|\n",
            "+-------------+----------+-----+------+---+-----+\n",
            "|        James|     Sales|   NY| 90000| 34|10000|\n",
            "|      Michael|     Sales|   NY| 86000| 56|20000|\n",
            "|       Robert|     Sales|   CA| 81000| 30|23000|\n",
            "|        Maria|   Finance|   CA| 90000| 24|23000|\n",
            "|        Raman|   Finance|   CA| 99000| 40|24000|\n",
            "|        Scott|   Finance|   NY| 83000| 36|19000|\n",
            "|          Jen|   Finance|   NY| 79000| 53|15000|\n",
            "|         Jeff| Marketing|   CA| 80000| 25|18000|\n",
            "|        Kumar| Marketing|   NY| 91000| 50|21000|\n",
            "+-------------+----------+-----+------+---+-----+\n",
            "\n"
          ]
        }
      ]
    },
    {
      "cell_type": "code",
      "source": [
        "df.show(2,truncate=3)"
      ],
      "metadata": {
        "colab": {
          "base_uri": "https://localhost:8080/"
        },
        "id": "C-DxNhPgea7E",
        "outputId": "9124e622-68d5-48a3-c977-0d6704188d4a"
      },
      "execution_count": null,
      "outputs": [
        {
          "output_type": "stream",
          "name": "stdout",
          "text": [
            "+-------------+----------+-----+------+---+-----+\n",
            "|employee_name|department|state|salary|age|bonus|\n",
            "+-------------+----------+-----+------+---+-----+\n",
            "|          Jam|       Sal|   NY|   900| 34|  100|\n",
            "|          Mic|       Sal|   NY|   860| 56|  200|\n",
            "+-------------+----------+-----+------+---+-----+\n",
            "only showing top 2 rows\n",
            "\n"
          ]
        }
      ]
    },
    {
      "cell_type": "code",
      "source": [
        "df.show(truncate=2)"
      ],
      "metadata": {
        "colab": {
          "base_uri": "https://localhost:8080/"
        },
        "id": "8s84GMKKea-q",
        "outputId": "6fa09e54-4e53-4e0e-d340-57bd8695e2f2"
      },
      "execution_count": null,
      "outputs": [
        {
          "output_type": "stream",
          "name": "stdout",
          "text": [
            "+-------------+----------+-----+------+---+-----+\n",
            "|employee_name|department|state|salary|age|bonus|\n",
            "+-------------+----------+-----+------+---+-----+\n",
            "|           Ja|        Sa|   NY|    90| 34|   10|\n",
            "|           Mi|        Sa|   NY|    86| 56|   20|\n",
            "|           Ro|        Sa|   CA|    81| 30|   23|\n",
            "|           Ma|        Fi|   CA|    90| 24|   23|\n",
            "|           Ra|        Fi|   CA|    99| 40|   24|\n",
            "|           Sc|        Fi|   NY|    83| 36|   19|\n",
            "|           Je|        Fi|   NY|    79| 53|   15|\n",
            "|           Je|        Ma|   CA|    80| 25|   18|\n",
            "|           Ku|        Ma|   NY|    91| 50|   21|\n",
            "+-------------+----------+-----+------+---+-----+\n",
            "\n"
          ]
        }
      ]
    },
    {
      "cell_type": "code",
      "execution_count": null,
      "metadata": {
        "id": "_mHnyQNLZdx4"
      },
      "outputs": [],
      "source": []
    },
    {
      "cell_type": "code",
      "execution_count": null,
      "metadata": {
        "colab": {
          "base_uri": "https://localhost:8080/"
        },
        "id": "n3hnTMc7TUCl",
        "outputId": "eee01729-bfc6-4431-e613-19cf446c4592"
      },
      "outputs": [
        {
          "output_type": "stream",
          "name": "stdout",
          "text": [
            "+---+--------+\n",
            "| id|    date|\n",
            "+---+--------+\n",
            "|  1|20200828|\n",
            "|  2|20180525|\n",
            "+---+--------+\n",
            "\n"
          ]
        }
      ],
      "source": [
        "import pyspark\n",
        "from pyspark.sql import SparkSession \n",
        "from pyspark.sql.functions import col, substring\n",
        "spark=SparkSession.builder.appName(\"stringoperations\").getOrCreate()\n",
        "data = [[\"1\",\"20200828\"],[\"2\",\"20180525\"]]\n",
        "columns=[\"id\",\"date\"]\n",
        "df=spark.createDataFrame(data,columns)\n",
        "df.show()\n",
        "#df.withColumn('year', substring('date', 1,4)).withColumn('month', substring('date', 5,2)).withColumn('day', substring('date', 7,2)).show()\n",
        "#df.printSchema()"
      ]
    },
    {
      "cell_type": "code",
      "execution_count": null,
      "metadata": {
        "colab": {
          "base_uri": "https://localhost:8080/"
        },
        "id": "A2Ead266TUOS",
        "outputId": "6dd7baaa-9df9-4f43-c920-6dd1ff975d05"
      },
      "outputs": [
        {
          "output_type": "stream",
          "name": "stdout",
          "text": [
            "root\n",
            " |-- date: string (nullable = true)\n",
            " |-- year: string (nullable = true)\n",
            " |-- month: string (nullable = true)\n",
            " |-- day: string (nullable = true)\n",
            "\n",
            "+--------+----+-----+---+\n",
            "|    date|year|month|day|\n",
            "+--------+----+-----+---+\n",
            "|20200828|2020| 0828| 28|\n",
            "|20180525|2018| 0525| 25|\n",
            "+--------+----+-----+---+\n",
            "\n"
          ]
        }
      ],
      "source": [
        "df1=df.select('date',substring('date',1,4).alias(\"year\"),substring('date',5,7).alias(\"month\"),substring('date',7,9).alias(\"day\"))\n",
        "df1.printSchema()\n",
        "df1.show()"
      ]
    },
    {
      "cell_type": "code",
      "execution_count": null,
      "metadata": {
        "colab": {
          "base_uri": "https://localhost:8080/"
        },
        "id": "SjeSnYEaQowb",
        "outputId": "4ad69531-2fd1-4867-abee-17652ec48a52"
      },
      "outputs": [
        {
          "output_type": "stream",
          "name": "stdout",
          "text": [
            "root\n",
            " |-- name: struct (nullable = true)\n",
            " |    |-- firstname: string (nullable = true)\n",
            " |    |-- middlename: string (nullable = true)\n",
            " |    |-- lastname: string (nullable = true)\n",
            " |-- languages: array (nullable = true)\n",
            " |    |-- element: string (containsNull = true)\n",
            " |-- state: string (nullable = true)\n",
            " |-- gender: string (nullable = true)\n",
            "\n",
            "+----------------------+------------------+-----+------+\n",
            "|name                  |languages         |state|gender|\n",
            "+----------------------+------------------+-----+------+\n",
            "|{James, , Smith}      |[Java, Scala, C++]|OH   |M     |\n",
            "|{Anna, Rose, }        |[Spark, Java, C++]|NY   |F     |\n",
            "|{Julia, , Williams}   |[CSharp, VB]      |OH   |F     |\n",
            "|{Maria, Anne, Jones}  |[CSharp, VB]      |NY   |M     |\n",
            "|{Jen, Mary, Brown}    |[CSharp, VB]      |NY   |M     |\n",
            "|{Mike, Mary, Williams}|[Python, VB]      |OH   |M     |\n",
            "+----------------------+------------------+-----+------+\n",
            "\n"
          ]
        }
      ],
      "source": [
        "from pyspark.sql.types import *\n",
        "data = [\n",
        "    ((\"James\",\"\",\"Smith\"),[\"Java\",\"Scala\",\"C++\"],\"OH\",\"M\"),\n",
        "    ((\"Anna\",\"Rose\",\"\"),[\"Spark\",\"Java\",\"C++\"],\"NY\",\"F\"),\n",
        "    ((\"Julia\",\"\",\"Williams\"),[\"CSharp\",\"VB\"],\"OH\",\"F\"),\n",
        "    ((\"Maria\",\"Anne\",\"Jones\"),[\"CSharp\",\"VB\"],\"NY\",\"M\"),\n",
        "    ((\"Jen\",\"Mary\",\"Brown\"),[\"CSharp\",\"VB\"],\"NY\",\"M\"),\n",
        "    ((\"Mike\",\"Mary\",\"Williams\"),[\"Python\",\"VB\"],\"OH\",\"M\")\n",
        " ]\n",
        "        \n",
        "schema = StructType([\n",
        "     StructField('name', StructType([\n",
        "        StructField('firstname', StringType(), True),\n",
        "        StructField('middlename', StringType(), True),\n",
        "         StructField('lastname', StringType(), True)\n",
        "     ])),\n",
        "     StructField('languages', ArrayType(StringType()), True),\n",
        "     StructField('state', StringType(), True),\n",
        "     StructField('gender', StringType(), True)\n",
        " ])\n",
        "\n",
        "df = spark.createDataFrame(data = data, schema = schema)\n",
        "df.printSchema()\n",
        "df.show(truncate=False)"
      ]
    },
    {
      "cell_type": "code",
      "execution_count": null,
      "metadata": {
        "colab": {
          "base_uri": "https://localhost:8080/"
        },
        "id": "pzBOZy_lQo4x",
        "outputId": "72641f22-1237-422d-97b5-e74551a30139"
      },
      "outputs": [
        {
          "name": "stdout",
          "output_type": "stream",
          "text": [
            "+--------------------+------------------+-----+------+\n",
            "|name                |languages         |state|gender|\n",
            "+--------------------+------------------+-----+------+\n",
            "|{Anna, Rose, }      |[Spark, Java, C++]|NY   |F     |\n",
            "|{Maria, Anne, Jones}|[CSharp, VB]      |NY   |M     |\n",
            "|{Jen, Mary, Brown}  |[CSharp, VB]      |NY   |M     |\n",
            "+--------------------+------------------+-----+------+\n",
            "\n"
          ]
        }
      ],
      "source": [
        "df.filter(df.state == \"NY\").show(truncate=False)"
      ]
    },
    {
      "cell_type": "code",
      "source": [
        "df.filter(\"state == 'NY'\").show(truncate=False)"
      ],
      "metadata": {
        "colab": {
          "base_uri": "https://localhost:8080/"
        },
        "id": "p1rzGdtojgab",
        "outputId": "e2bc7f19-e715-4dd6-9104-c7bc9052f572"
      },
      "execution_count": null,
      "outputs": [
        {
          "output_type": "stream",
          "name": "stdout",
          "text": [
            "+--------------------+------------------+-----+------+\n",
            "|name                |languages         |state|gender|\n",
            "+--------------------+------------------+-----+------+\n",
            "|{Anna, Rose, }      |[Spark, Java, C++]|NY   |F     |\n",
            "|{Maria, Anne, Jones}|[CSharp, VB]      |NY   |M     |\n",
            "|{Jen, Mary, Brown}  |[CSharp, VB]      |NY   |M     |\n",
            "+--------------------+------------------+-----+------+\n",
            "\n"
          ]
        }
      ]
    },
    {
      "cell_type": "code",
      "source": [
        "df.filter(\"gender == 'F'\").show()"
      ],
      "metadata": {
        "colab": {
          "base_uri": "https://localhost:8080/"
        },
        "id": "wgleAZ-cjQkK",
        "outputId": "41a9f85e-3b88-477f-b1eb-7a5652e385e8"
      },
      "execution_count": null,
      "outputs": [
        {
          "output_type": "stream",
          "name": "stdout",
          "text": [
            "+-------------------+------------------+-----+------+\n",
            "|               name|         languages|state|gender|\n",
            "+-------------------+------------------+-----+------+\n",
            "|     {Anna, Rose, }|[Spark, Java, C++]|   NY|     F|\n",
            "|{Julia, , Williams}|      [CSharp, VB]|   OH|     F|\n",
            "+-------------------+------------------+-----+------+\n",
            "\n"
          ]
        }
      ]
    },
    {
      "cell_type": "code",
      "source": [
        "df.filter((df.state == \"OH\")& (df.gender == \"F\")).show(truncate=False)"
      ],
      "metadata": {
        "colab": {
          "base_uri": "https://localhost:8080/"
        },
        "id": "iai5jP_wj9tH",
        "outputId": "0e131412-b8c6-40ea-f0d9-aaad6ed73860"
      },
      "execution_count": null,
      "outputs": [
        {
          "output_type": "stream",
          "name": "stdout",
          "text": [
            "+-------------------+------------+-----+------+\n",
            "|name               |languages   |state|gender|\n",
            "+-------------------+------------+-----+------+\n",
            "|{Julia, , Williams}|[CSharp, VB]|OH   |F     |\n",
            "+-------------------+------------+-----+------+\n",
            "\n"
          ]
        }
      ]
    },
    {
      "cell_type": "code",
      "source": [],
      "metadata": {
        "id": "BOY7tarrj9wd"
      },
      "execution_count": null,
      "outputs": []
    },
    {
      "cell_type": "code",
      "source": [],
      "metadata": {
        "id": "m0_PvVcgj9-K"
      },
      "execution_count": null,
      "outputs": []
    },
    {
      "cell_type": "code",
      "execution_count": null,
      "metadata": {
        "id": "PQR5JlxYzRxU"
      },
      "outputs": [],
      "source": [
        "data=[(\"suhana\",\"\",\"khan\")]\n",
        "schema = StructType([\n",
        "    StructField('firstname', StringType(), True),\n",
        "    StructField('middlename', StringType(), True),\n",
        "    StructField('lastname', StringType(), True)\n",
        "    ])\n"
      ]
    },
    {
      "cell_type": "code",
      "execution_count": null,
      "metadata": {
        "colab": {
          "base_uri": "https://localhost:8080/"
        },
        "id": "y1Qu90M_zSC0",
        "outputId": "0531f7e2-950a-458c-cfe7-91b64161b400"
      },
      "outputs": [
        {
          "name": "stdout",
          "output_type": "stream",
          "text": [
            "root\n",
            " |-- firstname: string (nullable = true)\n",
            " |-- middlename: string (nullable = true)\n",
            " |-- lastname: string (nullable = true)\n",
            "\n",
            "+---------+----------+--------+\n",
            "|firstname|middlename|lastname|\n",
            "+---------+----------+--------+\n",
            "|suhana   |          |khan    |\n",
            "+---------+----------+--------+\n",
            "\n"
          ]
        }
      ],
      "source": [
        "df = spark.createDataFrame(data = data, schema = schema)\n",
        "df.printSchema()\n",
        "df.show(truncate=False)"
      ]
    },
    {
      "cell_type": "code",
      "execution_count": null,
      "metadata": {
        "id": "MIyz8bsFzSLC"
      },
      "outputs": [],
      "source": []
    },
    {
      "cell_type": "code",
      "execution_count": null,
      "metadata": {
        "id": "J7NKLfOnzSOf"
      },
      "outputs": [],
      "source": []
    },
    {
      "cell_type": "code",
      "execution_count": null,
      "metadata": {
        "id": "r7l_FXJ0zSWb"
      },
      "outputs": [],
      "source": []
    },
    {
      "cell_type": "code",
      "execution_count": null,
      "metadata": {
        "id": "tTZuhCTOzSZ5"
      },
      "outputs": [],
      "source": []
    }
  ],
  "metadata": {
    "colab": {
      "provenance": []
    },
    "kernelspec": {
      "display_name": "Python 3",
      "name": "python3"
    },
    "language_info": {
      "name": "python"
    }
  },
  "nbformat": 4,
  "nbformat_minor": 0
}